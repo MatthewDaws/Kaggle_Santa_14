{
 "metadata": {
  "name": "",
  "signature": "sha256:49492dcffa212fea6149e26d2dae9ce778c5609f3a328db814912ca82e1afe20"
 },
 "nbformat": 3,
 "nbformat_minor": 0,
 "worksheets": [
  {
   "cells": [
    {
     "cell_type": "code",
     "collapsed": false,
     "input": [
      "import random"
     ],
     "language": "python",
     "metadata": {},
     "outputs": [],
     "prompt_number": 1
    },
    {
     "cell_type": "code",
     "collapsed": false,
     "input": [
      "[random.randint(0,5) for n in range(10)]"
     ],
     "language": "python",
     "metadata": {},
     "outputs": [
      {
       "metadata": {},
       "output_type": "pyout",
       "prompt_number": 8,
       "text": [
        "[5, 1, 2, 0, 4, 2, 4, 4, 3, 2]"
       ]
      }
     ],
     "prompt_number": 8
    },
    {
     "cell_type": "code",
     "collapsed": false,
     "input": [
      "# tasks should be increasing.\n",
      "# aim to return greatest <= target\n",
      "def bs(tasks, target):\n",
      "    if tasks[0] > target:\n",
      "        return None\n",
      "    if tasks[-1] <= target:\n",
      "        return tasks[-1]\n",
      "    index_low = 0 # Maintain invariant that tasks[index_low] <= target\n",
      "    index_high = len(tasks) - 1 # and tasks[index_high] > target\n",
      "    while index_high - index_low >= 2:\n",
      "        index_mid = (index_low + index_high) // 2\n",
      "        if tasks[index_mid] <= target:\n",
      "            index_low = index_mid\n",
      "        else:\n",
      "            index_high = index_mid\n",
      "    return tasks[index_low]"
     ],
     "language": "python",
     "metadata": {},
     "outputs": [],
     "prompt_number": 9
    },
    {
     "cell_type": "code",
     "collapsed": false,
     "input": [
      "length = 10 + random.randint(0,10)\n",
      "tasks = [random.randint(0,30) for n in range(length)]\n",
      "tasks.sort()\n",
      "print(tasks)\n",
      "bs(tasks, 15)"
     ],
     "language": "python",
     "metadata": {},
     "outputs": [
      {
       "output_type": "stream",
       "stream": "stdout",
       "text": [
        "[0, 5, 5, 8, 8, 9, 10, 11, 11, 11, 12, 12, 13, 14, 14, 18, 22, 24, 28]\n"
       ]
      },
      {
       "metadata": {},
       "output_type": "pyout",
       "prompt_number": 31,
       "text": [
        "14"
       ]
      }
     ],
     "prompt_number": 31
    },
    {
     "cell_type": "code",
     "collapsed": false,
     "input": [],
     "language": "python",
     "metadata": {},
     "outputs": []
    }
   ],
   "metadata": {}
  }
 ]
}