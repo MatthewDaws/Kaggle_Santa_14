{
 "metadata": {
  "name": "",
  "signature": "sha256:6fc4487e0064990381c4faed85be877e42447af16943419a2074d34eaad1de8c"
 },
 "nbformat": 3,
 "nbformat_minor": 0,
 "worksheets": [
  {
   "cells": [
    {
     "cell_type": "markdown",
     "metadata": {},
     "source": [
      "Generate a smaller data set to run trials on."
     ]
    },
    {
     "cell_type": "code",
     "collapsed": false,
     "input": [
      "import numpy as np"
     ],
     "language": "python",
     "metadata": {},
     "outputs": [],
     "prompt_number": 67
    },
    {
     "cell_type": "code",
     "collapsed": false,
     "input": [
      "toys = np.load(\"toys_rev2.npy\")"
     ],
     "language": "python",
     "metadata": {},
     "outputs": [],
     "prompt_number": 14
    },
    {
     "cell_type": "code",
     "collapsed": false,
     "input": [
      "np.random.shuffle(toys)\n",
      "toys"
     ],
     "language": "python",
     "metadata": {},
     "outputs": [
      {
       "metadata": {},
       "output_type": "pyout",
       "prompt_number": 15,
       "text": [
        "array([[273664,    122],\n",
        "       [378748,     32],\n",
        "       [144990,     22],\n",
        "       ..., \n",
        "       [429410,  12548],\n",
        "       [188925,     34],\n",
        "       [470129,    173]])"
       ]
      }
     ],
     "prompt_number": 15
    },
    {
     "cell_type": "code",
     "collapsed": false,
     "input": [
      "# Take first 500,000\n",
      "toys = toys[:500000]"
     ],
     "language": "python",
     "metadata": {},
     "outputs": [],
     "prompt_number": 17
    },
    {
     "cell_type": "code",
     "collapsed": false,
     "input": [
      "# Sort by arrival time\n",
      "toys.sort(axis=0)\n",
      "toys"
     ],
     "language": "python",
     "metadata": {},
     "outputs": [
      {
       "metadata": {},
       "output_type": "pyout",
       "prompt_number": 21,
       "text": [
        "array([[     3,      1],\n",
        "       [     4,      1],\n",
        "       [     5,      1],\n",
        "       ..., \n",
        "       [495357,  22387],\n",
        "       [495358,  22387],\n",
        "       [495358,  22387]])"
       ]
      }
     ],
     "prompt_number": 21
    },
    {
     "cell_type": "code",
     "collapsed": false,
     "input": [
      "np.save(\"toys_small.npy\", toys)"
     ],
     "language": "python",
     "metadata": {},
     "outputs": [],
     "prompt_number": 23
    },
    {
     "cell_type": "heading",
     "level": 1,
     "metadata": {},
     "source": [
      "Get 1/900 of the data"
     ]
    },
    {
     "cell_type": "markdown",
     "metadata": {},
     "source": [
      "I'm not sure the above gives a very representative sample (perhaps not surprising: too many entries, and not enough randomness).\n",
      "\n",
      "Here we'll ignore the arrival date, and pull out a representative 1/900 of the data."
     ]
    },
    {
     "cell_type": "code",
     "collapsed": false,
     "input": [
      "import numpy as np\n",
      "toys = np.load(\"toys_rev2.npy\")"
     ],
     "language": "python",
     "metadata": {},
     "outputs": [],
     "prompt_number": 1
    },
    {
     "cell_type": "code",
     "collapsed": false,
     "input": [
      "toys = toys[:,1].astype(np.int64)\n",
      "totalwork = np.sum(toys)\n",
      "print(totalwork)"
     ],
     "language": "python",
     "metadata": {},
     "outputs": [
      {
       "output_type": "stream",
       "stream": "stdout",
       "text": [
        "26003950765\n"
       ]
      }
     ],
     "prompt_number": 2
    },
    {
     "cell_type": "code",
     "collapsed": false,
     "input": [
      "import collections\n",
      "c = collections.Counter(toys)"
     ],
     "language": "python",
     "metadata": {},
     "outputs": [],
     "prompt_number": 3
    },
    {
     "cell_type": "code",
     "collapsed": false,
     "input": [
      "work_lengths = list(c)\n",
      "work_lengths.sort()\n",
      "current_work = 0\n",
      "actual_work = 0\n",
      "data = {}\n",
      "for length in work_lengths:\n",
      "    data[length] = c[length] // 900\n",
      "    actual_work += length * data[length]\n",
      "    current_work += length * c[length]\n",
      "    # Apply correction, as the above rounds down\n",
      "    while actual_work < current_work/900:\n",
      "        data[length] += 1\n",
      "        actual_work += length\n",
      "        \n",
      "# Tidy up\n",
      "data_zero = [ x for x in data if data[x] == 0 ]\n",
      "for x in data_zero:\n",
      "    del data[x]"
     ],
     "language": "python",
     "metadata": {},
     "outputs": [],
     "prompt_number": 4
    },
    {
     "cell_type": "code",
     "collapsed": false,
     "input": [
      "new_work = sum( data[x]*x for x in data )\n",
      "print(new_work, totalwork, new_work / totalwork * 900)\n",
      "new_items = sum( data[x] for x in data )\n",
      "print(new_items, len(toys), new_items / len(toys) * 900)"
     ],
     "language": "python",
     "metadata": {},
     "outputs": [
      {
       "output_type": "stream",
       "stream": "stdout",
       "text": [
        "28901394 26003950765 1.00028087405\n",
        "11116 10000000 1.00044\n"
       ]
      }
     ],
     "prompt_number": 6
    },
    {
     "cell_type": "code",
     "collapsed": false,
     "input": [
      "serial_data = []\n",
      "for x in data:\n",
      "    for y in range(data[x]):\n",
      "        serial_data.append(x)\n",
      "serial_data = np.array( serial_data )\n",
      "serial_data"
     ],
     "language": "python",
     "metadata": {},
     "outputs": [
      {
       "metadata": {},
       "output_type": "pyout",
       "prompt_number": 11,
       "text": [
        "array([    1,     1,     1, ..., 22364, 22373, 22382], dtype=int64)"
       ]
      }
     ],
     "prompt_number": 11
    },
    {
     "cell_type": "code",
     "collapsed": false,
     "input": [
      "np.save(\"small_data_no_arrival.npy\", serial_data)"
     ],
     "language": "python",
     "metadata": {},
     "outputs": [],
     "prompt_number": 12
    },
    {
     "cell_type": "code",
     "collapsed": false,
     "input": [],
     "language": "python",
     "metadata": {},
     "outputs": []
    }
   ],
   "metadata": {}
  }
 ]
}