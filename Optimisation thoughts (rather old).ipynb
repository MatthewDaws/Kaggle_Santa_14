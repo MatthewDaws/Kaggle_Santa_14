{
 "metadata": {
  "name": "",
  "signature": "sha256:99151f89276d66bdf03af83a9edf842b4be75b7ee5d5e374d2a862a53764c173"
 },
 "nbformat": 3,
 "nbformat_minor": 0,
 "worksheets": [
  {
   "cells": [
    {
     "cell_type": "markdown",
     "metadata": {},
     "source": [
      "Some thoughts about the optimisation problem:\n",
      "   - As the elves must have rest periods, unsanctioned working is, in terms of time, completely equivalent to just stopping and starting to work during only sanctioned hours.\n",
      "   - The exception to this is in the \"end game\", as the clock stops when the last toy is made, not when the last elf gets off their rest period.\n",
      "   - It seems to me, then, that elf productivity is more important."
     ]
    },
    {
     "cell_type": "markdown",
     "metadata": {},
     "source": [
      "A worked example.  We want to make a toy which takes 5 minutes, and yet the time is 16:57.  The next toy to be made takes T minutes.\n",
      "   - If we start work immediately, we get off a rest period at 9:02, but productivity dips to\n",
      "     $$ p_{\\text{old}} 1.02^{3/60} 0.9^{2/60} \\approx 0.9974813 p_{\\text{old}} $$\n",
      "     So the next toy takes $\\lceil T / 0.9974813 p_{\\text{old}} \\rceil$.\n",
      "   - We wait, so taking to 9:05, but now productivity becomes about $1.001652 p_{\\text{old}}$ and so the next toy takes\n",
      "     $\\lceil T / 1.001652 p_{\\text{old}} \\rceil$.\n",
      "   - If e.g. $T=4.0$ then because we're 3 minutes down, we need $T\\approx 4780$ before \"wait\" becomes a sensible strategy"
     ]
    },
    {
     "cell_type": "heading",
     "level": 1,
     "metadata": {},
     "source": [
      "Basic strategy"
     ]
    },
    {
     "cell_type": "markdown",
     "metadata": {},
     "source": [
      "So let's try the following:\n",
      "   - An elf will be assigned the longest Toy (s)he can make in sanctioned hours.\n",
      "   - Once an elf's productivity gets to 4.0, attack the hardest toy remaining."
     ]
    },
    {
     "cell_type": "code",
     "collapsed": false,
     "input": [
      "import numpy as np\n",
      "import math"
     ],
     "language": "python",
     "metadata": {},
     "outputs": [],
     "prompt_number": 1
    },
    {
     "cell_type": "code",
     "collapsed": false,
     "input": [
      "toys = np.load(\"toys_small.npy\")\n",
      "num_elves = math.ceil(900 / 10000000 * len(toys))\n",
      "print(len(toys),\"vs 10million, so use\",num_elves,\"elves\")\n",
      "# Add new column of zeros; 1 will indicate toy built.\n",
      "toys = np.hstack((toys, np.zeros((len(toys),1), dtype=np.int32)))"
     ],
     "language": "python",
     "metadata": {},
     "outputs": [
      {
       "output_type": "stream",
       "stream": "stdout",
       "text": [
        "500000 vs 10million, so use 45 elves\n"
       ]
      }
     ],
     "prompt_number": 2
    },
    {
     "cell_type": "code",
     "collapsed": false,
     "input": [
      "# We assume toys is sorted by arrival time of order\n",
      "\n",
      "def find_toy_length_leq(mins_since_2014, time):\n",
      "    \"\"\"Returns the toy, whose order arrived before or at `mins_since_2014`,\n",
      "    which takes time closest (but <=) `time`.\"\"\"\n",
      "    closest_row = None\n",
      "    timedelta = 0\n",
      "    for index, row in enumerate(toys):\n",
      "        if row[0] > mins_since_2014:\n",
      "            return closest_row\n",
      "        if row[2] == 0 and row[1] <= time:\n",
      "            if closest_row == None or time - row[1] < timedelta:\n",
      "                timedelta = time - row[1]\n",
      "                closest_row = index\n",
      "    return closest_row\n",
      "\n",
      "def find_longest_toy(mins_since_2014):\n",
      "    \"\"\"Returns the toy, whose order arrived before or at `mins_since_2014`,\n",
      "    which takes the longest time.\"\"\"\n",
      "    closest_row = None\n",
      "    longest = 0\n",
      "    for index, row in enumerate(toys):\n",
      "        if row[0] > mins_since_2014:\n",
      "            return closest_row\n",
      "        if row[2] == 0:\n",
      "            if closest_row == None or longest < row[1]:\n",
      "                longest = row[1]\n",
      "                closest_row = index\n",
      "    return closest_row\n",
      "\n",
      "def find_all_toys(mins_since_2014):\n",
      "    \"\"\"Finds all toys available at time, and not yet built.  Returns\n",
      "    a list of pairs (index, row).\"\"\"\n",
      "    return [ pair for pair in enumerate(toys) if pair[1][2] == 0 and\n",
      "            pair[1][0] <= mins_since_2014 ]"
     ],
     "language": "python",
     "metadata": {},
     "outputs": [],
     "prompt_number": 3
    },
    {
     "cell_type": "code",
     "collapsed": false,
     "input": [
      "import elf\n",
      "\n",
      "def round_to_sanctioned(time):\n",
      "    time_days = time // elf.minsday\n",
      "    time_local = time % elf.minsday\n",
      "    if time_local < elf.daystarts:\n",
      "        time_local = elf.daystarts\n",
      "    if time_local >= elf.dayends:\n",
      "        time_days += 1\n",
      "        time_local = elf.daystarts\n",
      "    return time_local + elf.minsday * time_days"
     ],
     "language": "python",
     "metadata": {},
     "outputs": [],
     "prompt_number": 4
    },
    {
     "cell_type": "markdown",
     "metadata": {},
     "source": [
      "Need to take account of the productivity, so if $T$ is actual time left, and $t$ is the toy length, and $p$ is productivity, then need\n",
      "$$ \\lceil t/p \\rceil \\leq T. $$\n",
      "This is equivalent to $t/p \\leq T$ or $t\\leq Tp$ or $t \\leq \\lfloor Tp \\rfloor$."
     ]
    },
    {
     "cell_type": "code",
     "collapsed": false,
     "input": [
      "elves = {}\n",
      "for n in range(1,num_elves+1):\n",
      "    elves[n] = elf.Elf(n)\n",
      "\n",
      "while not np.all(toys[:,2]): # Some toys not built\n",
      "    # Find the elf which is next available.\n",
      "    # Need to deal with issue that e.available_to_work could be outside sanctioned hours.\n",
      "    flag = True\n",
      "    while flag:\n",
      "        which_elf, e = min(elves.items(), key = lambda elf : elf[1].available_to_work)\n",
      "        t = round_to_sanctioned(e.available_to_work)\n",
      "        if t != e.available_to_work:\n",
      "            e.available_to_work = t\n",
      "        else:\n",
      "            flag = False\n",
      "    # Find a task for this elf to do!\n",
      "    elf_start_work = e.available_to_work\n",
      "    if e.productivity < 4.0:\n",
      "        time = elf.dayends - (elf_start_work % elf.minsday)\n",
      "        time = math.floor( time / e.productivity )\n",
      "        index = find_toy_length_leq(elf_start_work, time)\n",
      "        if index == None:\n",
      "            # Could be because there are no toys available at this time, or\n",
      "            # all available toys take too long.\n",
      "            #\n",
      "            # For now, just advance elf available time and try again\n",
      "            e.available_to_work += 1\n",
      "            #raise Exception(\"time=\"+str(elf_start_work)+\" but can't find!\")\n",
      "    else:\n",
      "        index = find_longest_toy(elf_start_work)\n",
      "    if index != None:\n",
      "        toyid, toytime = index+1, toys[index][1]\n",
      "        print(\"Elf {} available to work at {}. \".format(which_elf, elf_start_work), end=\"\")\n",
      "        print(\"Assigned toy {} which takes {}\".format(toyid, toytime))\n",
      "        e.do_task(elf_start_work, toytime)\n",
      "        toys[index][2] = 1 # Mark as done\n"
     ],
     "language": "python",
     "metadata": {},
     "outputs": [
      {
       "output_type": "stream",
       "stream": "stdout",
       "text": [
        "Elf 1 available to work at 540. Assigned toy 1 which takes 1\n",
        "Elf 2 available to work at 540. Assigned toy 2 which takes 1\n",
        "Elf 3 available to work at 540. Assigned toy 3 which takes 1\n",
        "Elf 4 available to work at 540. Assigned toy 4 which takes 1\n",
        "Elf 5 available to work at 540. Assigned toy 5 which takes 1\n",
        "Elf 6 available to work at 540. Assigned toy 6 which takes 1\n",
        "Elf 7 available to work at 540. Assigned toy 7 which takes 1\n",
        "Elf 8 available to work at 540. Assigned toy 8 which takes 1\n",
        "Elf 9 available to work at 540. Assigned toy 9 which takes 1\n",
        "Elf 10 available to work at 540. Assigned toy 10 which takes 1\n",
        "Elf 11 available to work at 540. Assigned toy 11 which takes 1\n",
        "Elf 12 available to work at 540. Assigned toy 12 which takes 1\n",
        "Elf 13 available to work at 540. Assigned toy 13 which takes 1\n",
        "Elf 14 available to work at 540. Assigned toy 14 which takes 1\n",
        "Elf 15 available to work at 540. Assigned toy 15 which takes 1\n",
        "Elf 16 available to work at 540. Assigned toy 16 which takes 1\n",
        "Elf 17 available to work at 540. Assigned toy 17 which takes 1\n",
        "Elf 18 available to work at 540. Assigned toy 18 which takes 1\n",
        "Elf 19 available to work at 540. Assigned toy 19 which takes 1\n",
        "Elf 20 available to work at 540. Assigned toy 20 which takes 1\n",
        "Elf 21 available to work at 540. Assigned toy 21 which takes 1\n",
        "Elf 22 available to work at 540. Assigned toy 22 which takes 1\n",
        "Elf 23 available to work at 540. Assigned toy 23 which takes 1\n",
        "Elf 24 available to work at 540. Assigned toy 24 which takes 1\n",
        "Elf 25 available to work at 540. Assigned toy 25 which takes 1\n",
        "Elf 26 available to work at 540. Assigned toy 26 which takes 1\n",
        "Elf 27 available to work at 540. Assigned toy 27 which takes 1\n",
        "Elf 28 available to work at 540. Assigned toy 28 which takes 1\n",
        "Elf 29 available to work at 540. Assigned toy 29 which takes 1\n",
        "Elf 30 available to work at 540. Assigned toy 30 which takes 1\n",
        "Elf 31 available to work at 540. Assigned toy 31 which takes 1\n",
        "Elf 32 available to work at 540. Assigned toy 32 which takes 1\n",
        "Elf 33 available to work at 540. Assigned toy 33 which takes 1\n",
        "Elf 34 available to work at 540. Assigned toy 34 which takes 1\n",
        "Elf 35 available to work at 540. Assigned toy 35 which takes 1\n",
        "Elf 36 available to work at 540. Assigned toy 36 which takes 1\n",
        "Elf 37 available to work at 540. Assigned toy 37 which takes 1\n",
        "Elf 38 available to work at 540. Assigned toy 38 which takes 1\n",
        "Elf 39 available to work at 540. Assigned toy 39 which takes 1\n",
        "Elf 40 available to work at 540. Assigned toy 40 which takes 1\n",
        "Elf 41 available to work at 540. Assigned toy 41 which takes 1\n",
        "Elf 42 available to work at 540. "
       ]
      },
      {
       "output_type": "stream",
       "stream": "stdout",
       "text": [
        "Assigned toy 42 which takes 1\n",
        "Elf 43 available to work at 540. Assigned toy 43 which takes 1\n",
        "Elf 44 available to work at 540. Assigned toy 44 which takes 1\n",
        "Elf 45 available to work at 540. Assigned toy 45 which takes 1\n",
        "Elf 1 available to work at 541. Assigned toy 46 which takes 1\n",
        "Elf 2 available to work at 541. Assigned toy 47 which takes 1\n",
        "Elf 3 available to work at 541. Assigned toy 48 which takes 1\n",
        "Elf 4 available to work at 541. Assigned toy 49 which takes 1\n",
        "Elf 5 available to work at 541. Assigned toy 50 which takes 1\n",
        "Elf 6 available to work at 541. Assigned toy 51 which takes 1\n",
        "Elf 7 available to work at 541. Assigned toy 52 which takes 1\n",
        "Elf 8 available to work at 541. Assigned toy 53 which takes 1\n",
        "Elf 9 available to work at 541. Assigned toy 54 which takes 1\n",
        "Elf 10 available to work at 541. Assigned toy 55 which takes 1\n",
        "Elf 11 available to work at 541. Assigned toy 56 which takes 1\n",
        "Elf 12 available to work at 541. Assigned toy 57 which takes 1\n",
        "Elf 13 available to work at 541. Assigned toy 58 which takes 1\n",
        "Elf 14 available to work at 541. Assigned toy 59 which takes 1\n",
        "Elf 15 available to work at 541. Assigned toy 60 which takes 1\n",
        "Elf 16 available to work at 541. Assigned toy 61 which takes 1\n",
        "Elf 17 available to work at 541. Assigned toy 62 which takes 1\n",
        "Elf 18 available to work at 541. Assigned toy 63 which takes 1\n",
        "Elf 19 available to work at 541. Assigned toy 64 which takes 1\n",
        "Elf 20 available to work at 541. Assigned toy 65 which takes 1\n",
        "Elf 21 available to work at 541. Assigned toy 66 which takes 1\n",
        "Elf 22 available to work at 541. Assigned toy 67 which takes 1\n",
        "Elf 23 available to work at 541. Assigned toy 68 which takes 1\n",
        "Elf 24 available to work at 541. Assigned toy 69 which takes 1\n",
        "Elf 25 available to work at 541. Assigned toy 70 which takes 1\n",
        "Elf 26 available to work at 541. Assigned toy 71 which takes 1\n",
        "Elf 27 available to work at 541. Assigned toy 72 which takes 1\n",
        "Elf 28 available to work at 541. Assigned toy 73 which takes 1\n",
        "Elf 29 available to work at 541. Assigned toy 74 which takes 1\n",
        "Elf 30 available to work at 541. Assigned toy 75 which takes 1\n",
        "Elf 31 available to work at 541. Assigned toy 76 which takes 1\n",
        "Elf 32 available to work at 541. Assigned toy 77 which takes 1\n",
        "Elf 33 available to work at 541. Assigned toy 78 which takes 1\n",
        "Elf 34 available to work at 541. Assigned toy 79 which takes 1\n",
        "Elf 35 available to work at 541. Assigned toy 80 which takes 1\n",
        "Elf 36 available to work at 541. "
       ]
      },
      {
       "output_type": "stream",
       "stream": "stdout",
       "text": [
        "Assigned toy 81 which takes 1\n",
        "Elf 37 available to work at 541. Assigned toy 82 which takes 1\n",
        "Elf 38 available to work at 541. Assigned toy 83 which takes 1\n",
        "Elf 39 available to work at 541. Assigned toy 84 which takes 1\n",
        "Elf 40 available to work at 541. Assigned toy 85 which takes 1\n",
        "Elf 41 available to work at 541. Assigned toy 86 which takes 1\n",
        "Elf 42 available to work at 541. Assigned toy 87 which takes 1\n",
        "Elf 43 available to work at 541. Assigned toy 88 which takes 1\n",
        "Elf 44 available to work at 541. Assigned toy 89 which takes 1\n",
        "Elf 45 available to work at 541. Assigned toy 90 which takes 1\n",
        "Elf 1 available to work at 542. Assigned toy 91 which takes 1\n",
        "Elf 2 available to work at 542. Assigned toy 92 which takes 1\n",
        "Elf 3 available to work at 542. Assigned toy 93 which takes 1\n",
        "Elf 4 available to work at 542. Assigned toy 94 which takes 1\n",
        "Elf 5 available to work at 542. Assigned toy 95 which takes 1\n",
        "Elf 6 available to work at 542. Assigned toy 96 which takes 1\n",
        "Elf 7 available to work at 542. Assigned toy 97 which takes 1\n",
        "Elf 8 available to work at 542. Assigned toy 98 which takes 1\n",
        "Elf 9 available to work at 542. Assigned toy 99 which takes 1\n",
        "Elf 10 available to work at 542. Assigned toy 100 which takes 1\n",
        "Elf 11 available to work at 542. Assigned toy 101 which takes 1\n",
        "Elf 12 available to work at 542. Assigned toy 102 which takes 1\n",
        "Elf 13 available to work at 542. Assigned toy 103 which takes 1\n",
        "Elf 14 available to work at 542. Assigned toy 104 which takes 1\n",
        "Elf 15 available to work at 542. Assigned toy 105 which takes 1\n",
        "Elf 16 available to work at 542. Assigned toy 106 which takes 1\n",
        "Elf 17 available to work at 542. Assigned toy 107 which takes 1\n",
        "Elf 18 available to work at 542. Assigned toy 108 which takes 1\n",
        "Elf 19 available to work at 542. Assigned toy 109 which takes 1\n",
        "Elf 20 available to work at 542. Assigned toy 110 which takes 1\n",
        "Elf 21 available to work at 542. Assigned toy 111 which takes 1\n",
        "Elf 22 available to work at 542. Assigned toy 112 which takes 1\n",
        "Elf 23 available to work at 542. Assigned toy 113 which takes 1\n",
        "Elf 24 available to work at 542. Assigned toy 114 which takes 1\n",
        "Elf 25 available to work at 542. Assigned toy 115 which takes 1\n",
        "Elf 26 available to work at 542. Assigned toy 116 which takes 1\n",
        "Elf 27 available to work at 542. Assigned toy 117 which takes 1\n",
        "Elf 28 available to work at 542. Assigned toy 118 which takes 1\n",
        "Elf 29 available to work at 542. Assigned toy 119 which takes 1\n",
        "Elf 30 available to work at 542. Assigned toy 120 which takes 1\n",
        "Elf 31 available to work at 542. "
       ]
      },
      {
       "output_type": "stream",
       "stream": "stdout",
       "text": [
        "Assigned toy 121 which takes 1\n",
        "Elf 32 available to work at 542. Assigned toy 122 which takes 1\n",
        "Elf 33 available to work at 542. Assigned toy 123 which takes 1\n",
        "Elf 34 available to work at 542. Assigned toy 124 which takes 1\n",
        "Elf 35 available to work at 542. Assigned toy 125 which takes 1\n",
        "Elf 36 available to work at 542. Assigned toy 126 which takes 1\n",
        "Elf 37 available to work at 542. Assigned toy 127 which takes 1\n",
        "Elf 38 available to work at 542. Assigned toy 128 which takes 1\n",
        "Elf 39 available to work at 542. Assigned toy 129 which takes 1\n",
        "Elf 40 available to work at 542. Assigned toy 130 which takes 1\n",
        "Elf 41 available to work at 542. Assigned toy 131 which takes 1\n",
        "Elf 42 available to work at 542. Assigned toy 132 which takes 1\n",
        "Elf 43 available to work at 542. Assigned toy 133 which takes 1\n",
        "Elf 44 available to work at 542. Assigned toy 134 which takes 1\n",
        "Elf 45 available to work at 542. Assigned toy 135 which takes 1\n",
        "Elf 1 available to work at 543. Assigned toy 136 which takes 1\n",
        "Elf 2 available to work at 543. Assigned toy 137 which takes 1\n",
        "Elf 3 available to work at 543. Assigned toy 138 which takes 1\n",
        "Elf 4 available to work at 543. Assigned toy 139 which takes 1\n",
        "Elf 5 available to work at 543. Assigned toy 140 which takes 1\n",
        "Elf 6 available to work at 543. Assigned toy 141 which takes 1\n",
        "Elf 7 available to work at 543. Assigned toy 142 which takes 1\n",
        "Elf 8 available to work at 543. Assigned toy 143 which takes 1\n",
        "Elf 9 available to work at 543. Assigned toy 144 which takes 1\n",
        "Elf 10 available to work at 543. Assigned toy 145 which takes 1\n",
        "Elf 11 available to work at 543. Assigned toy 146 which takes 1\n",
        "Elf 12 available to work at 543. Assigned toy 147 which takes 1\n",
        "Elf 13 available to work at 543. Assigned toy 148 which takes 1\n",
        "Elf 14 available to work at 543. Assigned toy 149 which takes 1\n",
        "Elf 15 available to work at 543. Assigned toy 150 which takes 1\n",
        "Elf 16 available to work at 543. Assigned toy 151 which takes 1\n",
        "Elf 17 available to work at 543. Assigned toy 152 which takes 1\n",
        "Elf 18 available to work at 543. Assigned toy 153 which takes 1\n",
        "Elf 19 available to work at 543. Assigned toy 154 which takes 1\n",
        "Elf 20 available to work at 543. Assigned toy 155 which takes 1\n",
        "Elf 21 available to work at 543. Assigned toy 156 which takes 1\n",
        "Elf 22 available to work at 543. Assigned toy 157 which takes 1\n",
        "Elf 23 available to work at 543. "
       ]
      },
      {
       "output_type": "stream",
       "stream": "stdout",
       "text": [
        "Assigned toy 158 which takes 1\n",
        "Elf 24 available to work at 543. Assigned toy 159 which takes 1\n",
        "Elf 25 available to work at 543. Assigned toy 160 which takes 1\n",
        "Elf 26 available to work at 543. Assigned toy 161 which takes 1\n",
        "Elf 27 available to work at 543. Assigned toy 162 which takes 1\n",
        "Elf 28 available to work at 543. Assigned toy 163 which takes 1\n",
        "Elf 29 available to work at 543. Assigned toy 164 which takes 1\n",
        "Elf 30 available to work at 543. Assigned toy 165 which takes 1\n",
        "Elf 31 available to work at 543. Assigned toy 166 which takes 1\n",
        "Elf 32 available to work at 543. Assigned toy 167 which takes 1\n",
        "Elf 33 available to work at 543. Assigned toy 168 which takes 1\n",
        "Elf 34 available to work at 543. Assigned toy 169 which takes 1\n",
        "Elf 35 available to work at 543. Assigned toy 170 which takes 1\n",
        "Elf 36 available to work at 543. Assigned toy 171 which takes 1\n",
        "Elf 37 available to work at 543. Assigned toy 172 which takes 1\n",
        "Elf 38 available to work at 543. Assigned toy 173 which takes 1\n",
        "Elf 39 available to work at 543. Assigned toy 174 which takes 1\n",
        "Elf 40 available to work at 543. Assigned toy 175 which takes 1\n",
        "Elf 41 available to work at 543. Assigned toy 176 which takes 1\n",
        "Elf 42 available to work at 543. Assigned toy 177 which takes 1\n",
        "Elf 43 available to work at 543. Assigned toy 178 which takes 1\n",
        "Elf 44 available to work at 543. Assigned toy 179 which takes 1\n",
        "Elf 45 available to work at 543. Assigned toy 180 which takes 1\n",
        "Elf 1 available to work at 544. Assigned toy 181 which takes 1\n",
        "Elf 2 available to work at 544. Assigned toy 182 which takes 1\n",
        "Elf 3 available to work at 544. Assigned toy 183 which takes 1\n",
        "Elf 4 available to work at 544. Assigned toy 184 which takes 1\n",
        "Elf 5 available to work at 544. Assigned toy 185 which takes 1\n",
        "Elf 6 available to work at 544. Assigned toy 186 which takes 1\n",
        "Elf 7 available to work at 544. Assigned toy 187 which takes 1\n",
        "Elf 8 available to work at 544. Assigned toy 188 which takes 1\n",
        "Elf 9 available to work at 544. Assigned toy 189 which takes 1\n",
        "Elf 10 available to work at 544. Assigned toy 190 which takes 1\n",
        "Elf 11 available to work at 544. Assigned toy 191 which takes 1\n",
        "Elf 12 available to work at 544. Assigned toy 192 which takes 1\n",
        "Elf 13 available to work at 544. Assigned toy 193 which takes 1\n",
        "Elf 14 available to work at 544. Assigned toy 194 which takes 1\n",
        "Elf 15 available to work at 544. Assigned toy 195 which takes 1\n",
        "Elf 16 available to work at 544. Assigned toy 196 which takes 1\n",
        "Elf 17 available to work at 544. Assigned toy 197 which takes 1\n",
        "Elf 18 available to work at 544. Assigned toy 198 which takes 1\n",
        "Elf 19 available to work at 544. Assigned toy 199 which takes 1\n",
        "Elf 20 available to work at 544. Assigned toy 200 which takes 1\n",
        "Elf 21 available to work at 544. Assigned toy 201 which takes 1\n",
        "Elf 22 available to work at 544. "
       ]
      },
      {
       "output_type": "stream",
       "stream": "stdout",
       "text": [
        "Assigned toy 202 which takes 1\n",
        "Elf 23 available to work at 544. Assigned toy 203 which takes 1\n",
        "Elf 24 available to work at 544. Assigned toy 204 which takes 1\n",
        "Elf 25 available to work at 544. Assigned toy 205 which takes 1\n",
        "Elf 26 available to work at 544. Assigned toy 206 which takes 1\n",
        "Elf 27 available to work at 544. Assigned toy 207 which takes 1\n",
        "Elf 28 available to work at 544. Assigned toy 208 which takes 1\n",
        "Elf 29 available to work at 544. Assigned toy 209 which takes 1\n",
        "Elf 30 available to work at 544. Assigned toy 210 which takes 1\n",
        "Elf 31 available to work at 544. Assigned toy 211 which takes 1\n",
        "Elf 32 available to work at 544. Assigned toy 212 which takes 1\n",
        "Elf 33 available to work at 544. Assigned toy 213 which takes 1\n",
        "Elf 34 available to work at 544. Assigned toy 214 which takes 1\n",
        "Elf 35 available to work at 544. Assigned toy 215 which takes 1\n",
        "Elf 36 available to work at 544. Assigned toy 216 which takes 1\n",
        "Elf 37 available to work at 544. Assigned toy 217 which takes 1\n",
        "Elf 38 available to work at 544. Assigned toy 218 which takes 1\n",
        "Elf 39 available to work at 544. Assigned toy 219 which takes 1\n",
        "Elf 40 available to work at 544. Assigned toy 220 which takes 1\n",
        "Elf 41 available to work at 544. Assigned toy 221 which takes 1\n",
        "Elf 42 available to work at 544. Assigned toy 222 which takes 1\n",
        "Elf 43 available to work at 544. Assigned toy 223 which takes 1\n",
        "Elf 44 available to work at 544. Assigned toy 224 which takes 1\n",
        "Elf 45 available to work at 544. Assigned toy 225 which takes 1\n",
        "Elf 1 available to work at 545. Assigned toy 226 which takes 1\n",
        "Elf 2 available to work at 545. Assigned toy 227 which takes 1\n",
        "Elf 3 available to work at 545. Assigned toy 228 which takes 1\n",
        "Elf 4 available to work at 545. Assigned toy 229 which takes 1\n",
        "Elf 5 available to work at 545. Assigned toy 230 which takes 1\n",
        "Elf 6 available to work at 545. Assigned toy 231 which takes 1\n",
        "Elf 7 available to work at 545. Assigned toy 232 which takes 1\n",
        "Elf 8 available to work at 545. Assigned toy 233 which takes 1\n",
        "Elf 9 available to work at 545. Assigned toy 234 which takes 1\n",
        "Elf 10 available to work at 545. Assigned toy 235 which takes 1\n",
        "Elf 11 available to work at 545. Assigned toy 236 which takes 1\n",
        "Elf 12 available to work at 545. Assigned toy 237 which takes 1\n",
        "Elf 13 available to work at 545. Assigned toy 238 which takes 1\n",
        "Elf 14 available to work at 545. Assigned toy 239 which takes 1\n",
        "Elf 15 available to work at 545. Assigned toy 240 which takes 1\n",
        "Elf 16 available to work at 545. Assigned toy 241 which takes 1\n",
        "Elf 17 available to work at 545. "
       ]
      },
      {
       "output_type": "stream",
       "stream": "stdout",
       "text": [
        "Assigned toy 242 which takes 1\n",
        "Elf 18 available to work at 545. Assigned toy 243 which takes 1\n",
        "Elf 19 available to work at 545. Assigned toy 244 which takes 1\n",
        "Elf 20 available to work at 545. Assigned toy 245 which takes 1\n",
        "Elf 21 available to work at 545. Assigned toy 246 which takes 1\n",
        "Elf 22 available to work at 545. Assigned toy 247 which takes 1\n",
        "Elf 23 available to work at 545. Assigned toy 248 which takes 1\n",
        "Elf 24 available to work at 545. Assigned toy 249 which takes 1\n",
        "Elf 25 available to work at 545. Assigned toy 250 which takes 1\n",
        "Elf 26 available to work at 545. Assigned toy 251 which takes 1\n",
        "Elf 27 available to work at 545. Assigned toy 252 which takes 1\n",
        "Elf 28 available to work at 545. Assigned toy 253 which takes 1\n",
        "Elf 29 available to work at 545. Assigned toy 254 which takes 1\n",
        "Elf 30 available to work at 545. Assigned toy 255 which takes 1\n",
        "Elf 31 available to work at 545. Assigned toy 256 which takes 1\n",
        "Elf 32 available to work at 545. Assigned toy 257 which takes 1\n",
        "Elf 33 available to work at 545. Assigned toy 258 which takes 1\n",
        "Elf 34 available to work at 545. Assigned toy 259 which takes 1\n",
        "Elf 35 available to work at 545. Assigned toy 260 which takes 1\n",
        "Elf 36 available to work at 545. Assigned toy 261 which takes 1\n",
        "Elf 37 available to work at 545. Assigned toy 262 which takes 1\n",
        "Elf 38 available to work at 545. Assigned toy 263 which takes 1\n",
        "Elf 39 available to work at 545. Assigned toy 264 which takes 1\n",
        "Elf 40 available to work at 545. Assigned toy 265 which takes 1\n",
        "Elf 41 available to work at 545. Assigned toy 266 which takes 1\n",
        "Elf 42 available to work at 545. Assigned toy 267 which takes 1\n",
        "Elf 43 available to work at 545. Assigned toy 268 which takes 1\n",
        "Elf 44 available to work at 545. Assigned toy 269 which takes 1\n",
        "Elf 45 available to work at 545. Assigned toy 270 which takes 1\n",
        "Elf 1 available to work at 546. Assigned toy 271 which takes 1\n",
        "Elf 2 available to work at 546. Assigned toy 272 which takes 1\n",
        "Elf 3 available to work at 546. Assigned toy 273 which takes 1\n",
        "Elf 4 available to work at 546. Assigned toy 274 which takes 1\n",
        "Elf 5 available to work at 546. Assigned toy 275 which takes 1\n",
        "Elf 6 available to work at 546. Assigned toy 276 which takes 1\n",
        "Elf 7 available to work at 546. Assigned toy 277 which takes 1\n",
        "Elf 8 available to work at 546. Assigned toy 278 which takes 1\n",
        "Elf 9 available to work at 546. Assigned toy 279 which takes 1\n",
        "Elf 10 available to work at 546. Assigned toy 280 which takes 1\n",
        "Elf 11 available to work at 546. Assigned toy 281 which takes 1\n",
        "Elf 12 available to work at 546. Assigned toy 282 which takes 1\n",
        "Elf 13 available to work at 546. Assigned toy 283 which takes 1\n",
        "Elf 14 available to work at 546. Assigned toy 284 which takes 1\n",
        "Elf 15 available to work at 546. Assigned toy 285 which takes 1\n",
        "Elf 16 available to work at 546. Assigned toy 286 which takes 1\n",
        "Elf 17 available to work at 546. Assigned toy 287 which takes 1\n",
        "Elf 18 available to work at 546. Assigned toy 288 which takes 1\n",
        "Elf 19 available to work at 546. "
       ]
      },
      {
       "output_type": "stream",
       "stream": "stdout",
       "text": [
        "Assigned toy 289 which takes 1\n",
        "Elf 20 available to work at 546. Assigned toy 290 which takes 1\n",
        "Elf 21 available to work at 546. Assigned toy 291 which takes 1\n",
        "Elf 22 available to work at 546. Assigned toy 292 which takes 1\n",
        "Elf 23 available to work at 546. Assigned toy 293 which takes 1\n",
        "Elf 24 available to work at 546. Assigned toy 294 which takes 1\n",
        "Elf 25 available to work at 546. Assigned toy 295 which takes 1\n",
        "Elf 26 available to work at 546. Assigned toy 296 which takes 1\n",
        "Elf 27 available to work at 546. Assigned toy 297 which takes 1\n",
        "Elf 28 available to work at 546. Assigned toy 298 which takes 1\n",
        "Elf 29 available to work at 546. Assigned toy 299 which takes 1\n",
        "Elf 30 available to work at 546. Assigned toy 300 which takes 1\n",
        "Elf 31 available to work at 546. Assigned toy 301 which takes 1\n",
        "Elf 32 available to work at 546. Assigned toy 302 which takes 1\n",
        "Elf 33 available to work at 546. Assigned toy 303 which takes 1\n",
        "Elf 34 available to work at 546. Assigned toy 304 which takes 1\n",
        "Elf 35 available to work at 546. Assigned toy 305 which takes 1\n",
        "Elf 36 available to work at 546. Assigned toy 306 which takes 1\n",
        "Elf 37 available to work at 546. Assigned toy 307 which takes 1\n",
        "Elf 38 available to work at 546. Assigned toy 308 which takes 1\n",
        "Elf 39 available to work at 546. Assigned toy 309 which takes 1\n",
        "Elf 40 available to work at 546. Assigned toy 310 which takes 1\n",
        "Elf 41 available to work at 546. Assigned toy 311 which takes 1\n",
        "Elf 42 available to work at 546. Assigned toy 312 which takes 1\n",
        "Elf 43 available to work at 546. Assigned toy 313 which takes 1\n",
        "Elf 44 available to work at 546. Assigned toy 314 which takes 1\n",
        "Elf 45 available to work at 546. Assigned toy 315 which takes 1\n",
        "Elf 1 available to work at 547. Assigned toy 316 which takes 1\n",
        "Elf 2 available to work at 547. Assigned toy 317 which takes 1\n",
        "Elf 3 available to work at 547. Assigned toy 318 which takes 1\n",
        "Elf 4 available to work at 547. Assigned toy 319 which takes 1\n",
        "Elf 5 available to work at 547. Assigned toy 320 which takes 1\n",
        "Elf 6 available to work at 547. Assigned toy 321 which takes 1\n",
        "Elf 7 available to work at 547. Assigned toy 322 which takes 1\n",
        "Elf 8 available to work at 547. Assigned toy 323 which takes 1\n",
        "Elf 9 available to work at 547. Assigned toy 324 which takes 1\n",
        "Elf 10 available to work at 547. Assigned toy 325 which takes 1\n",
        "Elf 11 available to work at 547. Assigned toy 326 which takes 1\n",
        "Elf 12 available to work at 547. Assigned toy 327 which takes 1\n",
        "Elf 13 available to work at 547. Assigned toy 328 which takes 1\n",
        "Elf 14 available to work at 547. Assigned toy 329 which takes 1\n",
        "Elf 15 available to work at 547. Assigned toy 330 which takes 1\n",
        "Elf 1 available to work at 548. "
       ]
      },
      {
       "output_type": "stream",
       "stream": "stdout",
       "text": [
        "Assigned toy 331 which takes 1\n",
        "Elf 2 available to work at 548. Assigned toy 332 which takes 1\n",
        "Elf 1 available to work at 549. Assigned toy 333 which takes 1\n",
        "Elf 1 available to work at 550. "
       ]
      },
      {
       "output_type": "stream",
       "stream": "stdout",
       "text": [
        "Assigned toy 334 which takes 1\n",
        "Elf 1 available to work at 556. "
       ]
      },
      {
       "output_type": "stream",
       "stream": "stdout",
       "text": [
        "Assigned toy 335 which takes 1\n",
        "Elf 2 available to work at 556. Assigned toy 336 which takes 1\n",
        "Elf 1 available to work at 557. "
       ]
      },
      {
       "output_type": "stream",
       "stream": "stdout",
       "text": [
        "Assigned toy 337 which takes 1\n",
        "Elf 1 available to work at 559. "
       ]
      },
      {
       "output_type": "stream",
       "stream": "stdout",
       "text": [
        "Assigned toy 338 which takes 1\n",
        "Elf 1 available to work at 562. "
       ]
      },
      {
       "output_type": "stream",
       "stream": "stdout",
       "text": [
        "Assigned toy 339 which takes 1\n",
        "Elf 2 available to work at 562. Assigned toy 340 which takes 1\n",
        "Elf 3 available to work at 562. Assigned toy 341 which takes 1\n",
        "Elf 1 available to work at 563. "
       ]
      },
      {
       "output_type": "stream",
       "stream": "stdout",
       "text": [
        "Assigned toy 342 which takes 1\n",
        "Elf 1 available to work at 564. "
       ]
      },
      {
       "output_type": "stream",
       "stream": "stdout",
       "text": [
        "Assigned toy 343 which takes 1\n",
        "Elf 2 available to work at 564. Assigned toy 344 which takes 1\n",
        "Elf 1 available to work at 567. "
       ]
      },
      {
       "output_type": "stream",
       "stream": "stdout",
       "text": [
        "Assigned toy 345 which takes 1\n",
        "Elf 2 available to work at 567. Assigned toy 346 which takes 1\n",
        "Elf 1 available to work at 568. "
       ]
      },
      {
       "output_type": "stream",
       "stream": "stdout",
       "text": [
        "Assigned toy 347 which takes 1\n",
        "Elf 1 available to work at 571. "
       ]
      },
      {
       "output_type": "stream",
       "stream": "stdout",
       "text": [
        "Assigned toy 348 which takes 1\n",
        "Elf 1 available to work at 573. "
       ]
      },
      {
       "output_type": "stream",
       "stream": "stdout",
       "text": [
        "Assigned toy 349 which takes 1\n",
        "Elf 1 available to work at 574. Assigned toy 350 which takes 1\n",
        "Elf 1 available to work at 579. "
       ]
      },
      {
       "output_type": "stream",
       "stream": "stdout",
       "text": [
        "Assigned toy 351 which takes 1\n",
        "Elf 2 available to work at 579. Assigned toy 352 which takes 1\n",
        "Elf 1 available to work at 582. "
       ]
      },
      {
       "output_type": "stream",
       "stream": "stdout",
       "text": [
        "Assigned toy 353 which takes 1\n",
        "Elf 1 available to work at 584. "
       ]
      },
      {
       "output_type": "stream",
       "stream": "stdout",
       "text": [
        "Assigned toy 354 which takes 1\n"
       ]
      },
      {
       "ename": "KeyboardInterrupt",
       "evalue": "",
       "output_type": "pyerr",
       "traceback": [
        "\u001b[1;31m---------------------------------------------------------------------------\u001b[0m\n\u001b[1;31mKeyboardInterrupt\u001b[0m                         Traceback (most recent call last)",
        "\u001b[1;32m<ipython-input-5-81c7ad7ebb07>\u001b[0m in \u001b[0;36m<module>\u001b[1;34m()\u001b[0m\n\u001b[0;32m      3\u001b[0m     \u001b[0melves\u001b[0m\u001b[1;33m[\u001b[0m\u001b[0mn\u001b[0m\u001b[1;33m]\u001b[0m \u001b[1;33m=\u001b[0m \u001b[0melf\u001b[0m\u001b[1;33m.\u001b[0m\u001b[0mElf\u001b[0m\u001b[1;33m(\u001b[0m\u001b[0mn\u001b[0m\u001b[1;33m)\u001b[0m\u001b[1;33m\u001b[0m\u001b[0m\n\u001b[0;32m      4\u001b[0m \u001b[1;33m\u001b[0m\u001b[0m\n\u001b[1;32m----> 5\u001b[1;33m \u001b[1;32mwhile\u001b[0m \u001b[1;32mnot\u001b[0m \u001b[0mnp\u001b[0m\u001b[1;33m.\u001b[0m\u001b[0mall\u001b[0m\u001b[1;33m(\u001b[0m\u001b[0mtoys\u001b[0m\u001b[1;33m[\u001b[0m\u001b[1;33m:\u001b[0m\u001b[1;33m,\u001b[0m\u001b[1;36m2\u001b[0m\u001b[1;33m]\u001b[0m\u001b[1;33m)\u001b[0m\u001b[1;33m:\u001b[0m \u001b[1;31m# Some toys not built\u001b[0m\u001b[1;33m\u001b[0m\u001b[0m\n\u001b[0m\u001b[0;32m      6\u001b[0m     \u001b[1;31m# Find the elf which is next available.\u001b[0m\u001b[1;33m\u001b[0m\u001b[1;33m\u001b[0m\u001b[0m\n\u001b[0;32m      7\u001b[0m     \u001b[1;31m# Need to deal with issue that e.available_to_work could be outside sanctioned hours.\u001b[0m\u001b[1;33m\u001b[0m\u001b[1;33m\u001b[0m\u001b[0m\n",
        "\u001b[1;32mC:\\Anaconda3\\lib\\site-packages\\numpy\\core\\fromnumeric.py\u001b[0m in \u001b[0;36mall\u001b[1;34m(a, axis, out, keepdims)\u001b[0m\n\u001b[0;32m   1911\u001b[0m \u001b[1;33m\u001b[0m\u001b[0m\n\u001b[0;32m   1912\u001b[0m     \u001b[1;32mtry\u001b[0m\u001b[1;33m:\u001b[0m\u001b[1;33m\u001b[0m\u001b[0m\n\u001b[1;32m-> 1913\u001b[1;33m         \u001b[1;32mreturn\u001b[0m \u001b[0marr\u001b[0m\u001b[1;33m.\u001b[0m\u001b[0mall\u001b[0m\u001b[1;33m(\u001b[0m\u001b[0maxis\u001b[0m\u001b[1;33m=\u001b[0m\u001b[0maxis\u001b[0m\u001b[1;33m,\u001b[0m \u001b[0mout\u001b[0m\u001b[1;33m=\u001b[0m\u001b[0mout\u001b[0m\u001b[1;33m,\u001b[0m \u001b[0mkeepdims\u001b[0m\u001b[1;33m=\u001b[0m\u001b[0mkeepdims\u001b[0m\u001b[1;33m)\u001b[0m\u001b[1;33m\u001b[0m\u001b[0m\n\u001b[0m\u001b[0;32m   1914\u001b[0m     \u001b[1;32mexcept\u001b[0m \u001b[0mTypeError\u001b[0m\u001b[1;33m:\u001b[0m\u001b[1;33m\u001b[0m\u001b[0m\n\u001b[0;32m   1915\u001b[0m         \u001b[1;32mreturn\u001b[0m \u001b[0marr\u001b[0m\u001b[1;33m.\u001b[0m\u001b[0mall\u001b[0m\u001b[1;33m(\u001b[0m\u001b[0maxis\u001b[0m\u001b[1;33m=\u001b[0m\u001b[0maxis\u001b[0m\u001b[1;33m,\u001b[0m \u001b[0mout\u001b[0m\u001b[1;33m=\u001b[0m\u001b[0mout\u001b[0m\u001b[1;33m)\u001b[0m\u001b[1;33m\u001b[0m\u001b[0m\n",
        "\u001b[1;32mC:\\Anaconda3\\lib\\site-packages\\numpy\\core\\_methods.py\u001b[0m in \u001b[0;36m_all\u001b[1;34m(a, axis, dtype, out, keepdims)\u001b[0m\n\u001b[0;32m     39\u001b[0m \u001b[1;33m\u001b[0m\u001b[0m\n\u001b[0;32m     40\u001b[0m \u001b[1;32mdef\u001b[0m \u001b[0m_all\u001b[0m\u001b[1;33m(\u001b[0m\u001b[0ma\u001b[0m\u001b[1;33m,\u001b[0m \u001b[0maxis\u001b[0m\u001b[1;33m=\u001b[0m\u001b[1;32mNone\u001b[0m\u001b[1;33m,\u001b[0m \u001b[0mdtype\u001b[0m\u001b[1;33m=\u001b[0m\u001b[1;32mNone\u001b[0m\u001b[1;33m,\u001b[0m \u001b[0mout\u001b[0m\u001b[1;33m=\u001b[0m\u001b[1;32mNone\u001b[0m\u001b[1;33m,\u001b[0m \u001b[0mkeepdims\u001b[0m\u001b[1;33m=\u001b[0m\u001b[1;32mFalse\u001b[0m\u001b[1;33m)\u001b[0m\u001b[1;33m:\u001b[0m\u001b[1;33m\u001b[0m\u001b[0m\n\u001b[1;32m---> 41\u001b[1;33m     \u001b[1;32mreturn\u001b[0m \u001b[0mumr_all\u001b[0m\u001b[1;33m(\u001b[0m\u001b[0ma\u001b[0m\u001b[1;33m,\u001b[0m \u001b[0maxis\u001b[0m\u001b[1;33m,\u001b[0m \u001b[0mdtype\u001b[0m\u001b[1;33m,\u001b[0m \u001b[0mout\u001b[0m\u001b[1;33m,\u001b[0m \u001b[0mkeepdims\u001b[0m\u001b[1;33m)\u001b[0m\u001b[1;33m\u001b[0m\u001b[0m\n\u001b[0m\u001b[0;32m     42\u001b[0m \u001b[1;33m\u001b[0m\u001b[0m\n\u001b[0;32m     43\u001b[0m \u001b[1;32mdef\u001b[0m \u001b[0m_count_reduce_items\u001b[0m\u001b[1;33m(\u001b[0m\u001b[0marr\u001b[0m\u001b[1;33m,\u001b[0m \u001b[0maxis\u001b[0m\u001b[1;33m)\u001b[0m\u001b[1;33m:\u001b[0m\u001b[1;33m\u001b[0m\u001b[0m\n",
        "\u001b[1;31mKeyboardInterrupt\u001b[0m: "
       ]
      }
     ],
     "prompt_number": 5
    },
    {
     "cell_type": "markdown",
     "metadata": {},
     "source": [
      "This is rather slow; but we do see that basically the Elves are starved for work...  Maybe this smaller data set is not representative of the real work-load??"
     ]
    },
    {
     "cell_type": "code",
     "collapsed": false,
     "input": [],
     "language": "python",
     "metadata": {},
     "outputs": []
    }
   ],
   "metadata": {}
  }
 ]
}