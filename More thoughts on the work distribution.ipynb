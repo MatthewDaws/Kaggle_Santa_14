{
 "metadata": {
  "name": "",
  "signature": "sha256:d0de77744df0e96fbfb5ab709a8d308ccb9a22fc0e37b473f9d493941ecbbafc"
 },
 "nbformat": 3,
 "nbformat_minor": 0,
 "worksheets": [
  {
   "cells": [
    {
     "cell_type": "code",
     "collapsed": false,
     "input": [
      "%matplotlib inline\n",
      "import numpy as np\n",
      "import matplotlib.pyplot as plt\n",
      "import math"
     ],
     "language": "python",
     "metadata": {},
     "outputs": [],
     "prompt_number": 2
    },
    {
     "cell_type": "heading",
     "level": 1,
     "metadata": {},
     "source": [
      "The problem of exhausted Elves..."
     ]
    },
    {
     "cell_type": "code",
     "collapsed": false,
     "input": [
      "toys = np.load(\"toys_rev2.npy\")\n",
      "toys = toys.astype(np.int64)\n",
      "print(\"Num toys: \",len(toys[:,1]))\n",
      "print(\"Total minutes: \",np.sum(toys[:,1]))\n",
      "print(\"Range: {}--{}\".format(np.min(toys[:,1]),np.max(toys[:,1])))"
     ],
     "language": "python",
     "metadata": {},
     "outputs": [
      {
       "output_type": "stream",
       "stream": "stdout",
       "text": [
        "Num toys:  10000000\n",
        "Total minutes:  26003950765\n",
        "Range: 1--47473"
       ]
      },
      {
       "output_type": "stream",
       "stream": "stdout",
       "text": [
        "\n"
       ]
      }
     ],
     "prompt_number": 3
    },
    {
     "cell_type": "heading",
     "level": 2,
     "metadata": {},
     "source": [
      "Productivity loses on long tasks"
     ]
    },
    {
     "cell_type": "markdown",
     "metadata": {},
     "source": [
      "The problem is that long tasks always reduce productivity to 0.25, regardless of where we start.  In analysing the number of sanctioned and unsanctioned hours, notice that in any 24 hour period we have the same, so what matters is merely the time modulo 24.  Then the best outcome is to maximise sanctioned hours, so start work at 9am.\n",
      "   - A 4.0 Elf dies on a task over 14868\n",
      "   - A 1.0 Elf dies on a task over 2214"
     ]
    },
    {
     "cell_type": "code",
     "collapsed": false,
     "input": [
      "def tester(prod, task):\n",
      "    elftime = int(math.ceil(task/prod))\n",
      "    san = 0\n",
      "    unsan = 0\n",
      "    while elftime > 24*60:\n",
      "        elftime -= 24*60\n",
      "        san += 10\n",
      "        unsan += 14\n",
      "    if elftime > 600:\n",
      "        unsan += (elftime-600) / 60\n",
      "        elftime = 600\n",
      "    san += elftime / 60\n",
      "    np = prod * (0.9**unsan) * (1.02**san)\n",
      "    np = max(0.25,min(4,np))\n",
      "    print(\"Elf={}, Task={}, San={}, Unsan={}, New Prod={}\".format(prod,task,san,unsan,np))\n",
      "    \n",
      "tester(4, 2400)\n",
      "tester(4, 24*60*4) # Day\n",
      "tester(4, 34*60*4) # Day + 10 hours further sanctioned\n",
      "tester(4, 37*60*4) # Down to 1.0\n",
      "tester(4, 48*60*4) # 2 Days\n",
      "tester(4, 58*60*4) # 2 Days + 10\n",
      "tester(4, 14868) # Longest before .25\n",
      "tester(1, 600)\n",
      "tester(1, 712) # Longest before < 1.0\n",
      "tester(1, 24*60) # One day\n",
      "tester(1, 34*60) # One day + 10\n",
      "tester(1, 2214) # Longest before .25"
     ],
     "language": "python",
     "metadata": {},
     "outputs": [
      {
       "output_type": "stream",
       "stream": "stdout",
       "text": [
        "Elf=4, Task=2400, San=10.0, Unsan=0, New Prod=4\n",
        "Elf=4, Task=5760, San=10.0, Unsan=14.0, New Prod=1.1154672939990253\n",
        "Elf=4, Task=8160, San=20.0, Unsan=14, New Prod=1.3597484070714636\n",
        "Elf=4, Task=8880, San=20.0, Unsan=17.0, New Prod=0.991256588755097\n",
        "Elf=4, Task=11520, San=20.0, Unsan=28.0, New Prod=0.3110668209953771\n",
        "Elf=4, Task=13920, San=30.0, Unsan=28, New Prod=0.3791887190388727\n",
        "Elf=4, Task=14868, San=30.0, Unsan=31.95, New Prod=0.2500997863737491\n",
        "Elf=1, Task=600, San=10.0, Unsan=0, New Prod=1.2189944199947573\n",
        "Elf=1, Task=712, San=10.0, Unsan=1.8666666666666667, New Prod=1.001354226538268\n",
        "Elf=1, Task=1440, San=10.0, Unsan=14.0, New Prod=0.27886682349975633\n",
        "Elf=1, Task=2040, San=20.0, Unsan=14, New Prod=0.3399371017678659\n",
        "Elf=1, Task=2214, San=20.0, Unsan=16.9, New Prod=0.2504389329804536\n"
       ]
      }
     ],
     "prompt_number": 65
    },
    {
     "cell_type": "heading",
     "level": 3,
     "metadata": {},
     "source": [
      "Recharge times"
     ]
    },
    {
     "cell_type": "markdown",
     "metadata": {},
     "source": [
      "The following shows that:\n",
      "   - A .25 elf can be recharged to 1.0 in a week (70 hours) using 2049 hours of toy time.\n",
      "   - A 1.0 elf can be recharged to 4.0 in the same time (of course) but using 8200 hours of toy time."
     ]
    },
    {
     "cell_type": "code",
     "collapsed": false,
     "input": [
      "prod = 0.25\n",
      "total_toy_time = 0\n",
      "day = 1\n",
      "while prod <= 4.0:\n",
      "    toy_time = int(math.floor(600*prod))\n",
      "    total_toy_time += toy_time\n",
      "    elf_time = int(math.ceil(toy_time/prod))\n",
      "    prod *= 1.02**(elf_time/60)\n",
      "    print(\"day=\",day,\"Prod=\",prod,\"toy time=\",toy_time,\n",
      "          \"total time\",total_toy_time)\n",
      "    day += 1"
     ],
     "language": "python",
     "metadata": {},
     "outputs": [
      {
       "output_type": "stream",
       "stream": "stdout",
       "text": [
        "day= 1 Prod= 0.30474860499868933 toy time= 150 total time 150\n",
        "day= 2 Prod= 0.3712417160542246 toy time= 182 total time 332\n",
        "day= 3 Prod= 0.4522429618323545 toy time= 222 total time 554\n",
        "day= 4 Prod= 0.5512816469555422 toy time= 271 total time 825\n",
        "day= 5 Prod= 0.6717874956018023 toy time= 330 total time 1155\n",
        "day= 6 Prod= 0.8189052085608496 toy time= 403 total time 1558\n",
        "day= 7 Prod= 0.9982408797403186 toy time= 491 total time 2049\n",
        "day= 8 Prod= 1.216850062214106 toy time= 598 total time 2647\n",
        "day= 9 Prod= 1.4833334358092687 toy time= 730 total time 3377\n",
        "day= 10 Prod= 1.8081751812431501 toy time= 890 total time 4267\n",
        "day= 11 Prod= 2.204155456308409 toy time= 1084 total time 5351\n",
        "day= 12 Prod= 2.6868532020409486 toy time= 1322 total time 6673\n",
        "day= 13 Prod= 3.275259060632963 toy time= 1612 total time 8285\n",
        "day= 14 Prod= 3.992522518948852 toy time= 1965 total time 10250\n",
        "day= 15 Prod= 4.866862672302063 toy time= 2395 total time 12645\n"
       ]
      }
     ],
     "prompt_number": 66
    },
    {
     "cell_type": "heading",
     "level": 2,
     "metadata": {},
     "source": [
      "More on the distribution of tasks"
     ]
    },
    {
     "cell_type": "markdown",
     "metadata": {},
     "source": [
      "The 1st 15 weeks look rather easy: max out the elves, and they can take the occasional hit...  In fact, the main problem might be giving the elves sufficient tasks to do..."
     ]
    },
    {
     "cell_type": "code",
     "collapsed": false,
     "input": [
      "def week_summary(w):\n",
      "    start = w * 7 * 24 * 60\n",
      "    end = start + 7 * 24 * 60 - 1\n",
      "    week = toys[ toys[:,0] >= start ]\n",
      "    week = week[ week[:,0] < end ][:,1]\n",
      "    print(\"Week\", w)\n",
      "    print(\"  Tasks: {}, Minutes: {} ({:.3f}), Range: {}--{}\".format(len(week), np.sum(week),\n",
      "        np.sum(week)/(900*4*60), min(week),max(week)))\n",
      "    week.sort()\n",
      "    print(\"  Longest 10:\",week[-10:])\n",
      "    sub = week[ week > 2400]\n",
      "    #print(\"2400 cutoff (4.0 elf in sanctioned hours).  Tasks longer: {}, sum:{}\".format(\n",
      "    #    len(sub),np.sum(sub)))    \n",
      "\n",
      "print(\"Figure after minutes is hours it takes 900 4.0 elves; 70 hour week\")\n",
      "for w in range(15): week_summary(w)"
     ],
     "language": "python",
     "metadata": {},
     "outputs": [
      {
       "output_type": "stream",
       "stream": "stdout",
       "text": [
        "Figure after minutes is hours it takes 900 4.0 elves; 70 hour week\n",
        "Week"
       ]
      },
      {
       "output_type": "stream",
       "stream": "stdout",
       "text": [
        " 0\n",
        "  Tasks: 129771, Minutes: 3181367 (14.729), Range: 1--3962\n",
        "  Longest 10: [1151 1210 1237 1254 1334 1430 1468 1834 2142 3962]\n",
        "Week"
       ]
      },
      {
       "output_type": "stream",
       "stream": "stdout",
       "text": [
        " 1\n",
        "  Tasks: 129638, Minutes: 3161641 (14.637), Range: 1--3436\n",
        "  Longest 10: [1081 1092 1113 1228 1384 1388 1490 1557 2651 3436]\n",
        "Week"
       ]
      },
      {
       "output_type": "stream",
       "stream": "stdout",
       "text": [
        " 2\n",
        "  Tasks: 129529, Minutes: 3175136 (14.700), Range: 1--4172\n",
        "  Longest 10: [1185 1226 1302 1342 1563 1598 1641 1788 1940 4172]\n",
        "Week"
       ]
      },
      {
       "output_type": "stream",
       "stream": "stdout",
       "text": [
        " 3\n",
        "  Tasks: 129418, Minutes: 3178334 (14.715), Range: 1--1823\n",
        "  Longest 10: [1104 1297 1441 1493 1505 1591 1668 1692 1734 1823]\n",
        "Week"
       ]
      },
      {
       "output_type": "stream",
       "stream": "stdout",
       "text": [
        " 4\n",
        "  Tasks: 129829, Minutes: 3184264 (14.742), Range: 1--2459\n",
        "  Longest 10: [1491 1495 1537 1577 1594 1605 1961 2106 2198 2459]\n",
        "Week"
       ]
      },
      {
       "output_type": "stream",
       "stream": "stdout",
       "text": [
        " 5\n",
        "  Tasks: 129560, Minutes: 3188764 (14.763), Range: 1--1993\n",
        "  Longest 10: [1162 1173 1180 1196 1234 1254 1265 1588 1630 1993]\n",
        "Week"
       ]
      },
      {
       "output_type": "stream",
       "stream": "stdout",
       "text": [
        " 6\n",
        "  Tasks: 129900, Minutes: 3188779 (14.763), Range: 1--2040\n",
        "  Longest 10: [1174 1217 1315 1334 1494 1571 1650 1659 1696 2040]\n",
        "Week"
       ]
      },
      {
       "output_type": "stream",
       "stream": "stdout",
       "text": [
        " 7\n",
        "  Tasks: 130241, Minutes: 3223457 (14.923), Range: 1--2597\n",
        "  Longest 10: [1341 1389 1640 1703 1766 1943 1964 2032 2291 2597]\n",
        "Week"
       ]
      },
      {
       "output_type": "stream",
       "stream": "stdout",
       "text": [
        " 8\n",
        "  Tasks: 129589, Minutes: 3203474 (14.831), Range: 1--2129\n",
        "  Longest 10: [1382 1386 1479 1519 1533 1741 1745 1799 1840 2129]\n",
        "Week"
       ]
      },
      {
       "output_type": "stream",
       "stream": "stdout",
       "text": [
        " 9\n",
        "  Tasks: 129335, Minutes: 3173999 (14.694), Range: 1--4273\n",
        "  Longest 10: [1149 1164 1234 1442 1573 1584 1709 1881 2434 4273]\n",
        "Week"
       ]
      },
      {
       "output_type": "stream",
       "stream": "stdout",
       "text": [
        " 10\n",
        "  Tasks: 129280, Minutes: 3180296 (14.724), Range: 1--3396\n",
        "  Longest 10: [1246 1343 1345 1520 1522 1714 2583 2660 3214 3396]\n",
        "Week"
       ]
      },
      {
       "output_type": "stream",
       "stream": "stdout",
       "text": [
        " 11\n",
        "  Tasks: 129509, Minutes: 3210493 (14.863), Range: 1--2694\n",
        "  Longest 10: [1393 1448 1620 1649 1655 1854 2071 2086 2523 2694]\n",
        "Week"
       ]
      },
      {
       "output_type": "stream",
       "stream": "stdout",
       "text": [
        " 12\n",
        "  Tasks: 129084, Minutes: 3178405 (14.715), Range: 1--2929\n",
        "  Longest 10: [1350 1355 1414 1434 1475 1553 2186 2367 2390 2929]\n",
        "Week"
       ]
      },
      {
       "output_type": "stream",
       "stream": "stdout",
       "text": [
        " 13\n",
        "  Tasks: 129503, Minutes: 3192377 (14.780), Range: 1--2384\n",
        "  Longest 10: [1594 1625 1660 1725 1737 1778 1997 2170 2285 2384]\n",
        "Week"
       ]
      },
      {
       "output_type": "stream",
       "stream": "stdout",
       "text": [
        " 14\n",
        "  Tasks: 129673, Minutes: 3189794 (14.768), Range: 1--3407\n",
        "  Longest 10: [1431 1516 1553 1607 1755 2123 2314 2524 2717 3407]\n"
       ]
      }
     ],
     "prompt_number": 83
    },
    {
     "cell_type": "markdown",
     "metadata": {},
     "source": [
      "Then things get much harder.\n",
      "   - The total work starts to exceed the possible time (but in some ways, this is good, as it starts to become a less dynamic problem).\n",
      "   - The \"long\" taks become more numerous and much longer.\n",
      "   - But we can almost afford to just \"save\" these for later..."
     ]
    },
    {
     "cell_type": "code",
     "collapsed": false,
     "input": [
      "def week_summary2(w):\n",
      "    start = w * 7 * 24 * 60\n",
      "    end = start + 7 * 24 * 60 - 1\n",
      "    week = toys[ toys[:,0] >= start ]\n",
      "    week = week[ week[:,0] < end ][:,1]\n",
      "    if len(week)==0:\n",
      "        print(\"Week\",w,\": no data!\")\n",
      "        return\n",
      "    print(\"Week\", w)\n",
      "    print(\"  Tasks: {}, Minutes: {:.2e} ({:.3f}), Range: {}--{}\".format(len(week), np.sum(week),\n",
      "        np.sum(week)/(900*4*60), min(week),max(week)))\n",
      "    week.sort()\n",
      "    print(\"  Longest 10:\",week[-10:])\n",
      "    sub = week[ week > 2400]\n",
      "    #print(\"  2400: count:{}, sum:{:.2e}\".format(len(sub),np.sum(sub)),end=\"\")\n",
      "    print(\"  2400: count:{}, sum:{:.1f}%\".format(len(sub),np.sum(sub)/np.sum(week)*100),end=\"\")\n",
      "    sub = week[ week > 8880]\n",
      "    #print(\"  8880: count:{}, sum:{:.2e}\".format(len(sub),np.sum(sub)))\n",
      "    print(\"  8880: count:{}, sum:{:.1f}%\".format(len(sub),np.sum(sub)/np.sum(week)*100))\n",
      "    \n",
      "for w in range(15,42): week_summary2(w)"
     ],
     "language": "python",
     "metadata": {},
     "outputs": [
      {
       "output_type": "stream",
       "stream": "stdout",
       "text": [
        "Week 15\n",
        "  Tasks: 152796, Minutes: 1.56e+07 (72.318), Range: 1--47473\n",
        "  Longest 10: [ 8304  9123  9215  9286  9824 10015 10680 11793 12789 47473]\n",
        "  2400: count:248, sum:6.4%  8880: count:9, sum:0.8%\n",
        "Week"
       ]
      },
      {
       "output_type": "stream",
       "stream": "stdout",
       "text": [
        " 16\n",
        "  Tasks: 168776, Minutes: 2.46e+07 (113.706), Range: 1--14624\n",
        "  Longest 10: [ 8734  8959  9060  9416  9418 10107 10769 11240 11846 14624]\n",
        "  2400: count:393, sum:5.8%  8880: count:9, sum:0.4%\n",
        "Week"
       ]
      },
      {
       "output_type": "stream",
       "stream": "stdout",
       "text": [
        " 17\n",
        "  Tasks: 169438, Minutes: 2.46e+07 (113.934), Range: 1--36989\n",
        "  Longest 10: [10392 10463 11451 11598 12212 12526 18022 24273 27334 36989]\n",
        "  2400: count:411, sum:6.7%  8880: count:12, sum:0.8%\n",
        "Week"
       ]
      },
      {
       "output_type": "stream",
       "stream": "stdout",
       "text": [
        " 18\n",
        "  Tasks: 169415, Minutes: 2.50e+07 (115.647), Range: 1--30863\n",
        "  Longest 10: [ 9760  9924 10305 10406 10985 11103 12118 12561 30465 30863]\n",
        "  2400: count:438, sum:6.7%  8880: count:12, sum:0.7%\n",
        "Week"
       ]
      },
      {
       "output_type": "stream",
       "stream": "stdout",
       "text": [
        " 19\n",
        "  Tasks: 169543, Minutes: 2.48e+07 (114.866), Range: 1--15629\n",
        "  Longest 10: [ 9085  9326  9348  9537 10021 10297 10988 11309 12934 15629]\n",
        "  2400: count:454, sum:6.8%  8880: count:10, sum:0.4%\n",
        "Week"
       ]
      },
      {
       "output_type": "stream",
       "stream": "stdout",
       "text": [
        " 20\n",
        "  Tasks: 169357, Minutes: 2.50e+07 (115.569), Range: 1--32332\n",
        "  Longest 10: [11709 11864 13954 14289 17195 17491 18538 20209 22952 32332]\n",
        "  2400: count:434, sum:6.7%  8880: count:16, sum:1.0%\n",
        "Week"
       ]
      },
      {
       "output_type": "stream",
       "stream": "stdout",
       "text": [
        " 21\n",
        "  Tasks: 169103, Minutes: 2.46e+07 (114.021), Range: 1--18128\n",
        "  Longest 10: [11143 11381 12407 12667 14149 14747 15328 15331 16085 18128]\n",
        "  2400: count:393, sum:6.4%  8880: count:14, sum:0.7%\n",
        "Week"
       ]
      },
      {
       "output_type": "stream",
       "stream": "stdout",
       "text": [
        " 22\n",
        "  Tasks: 169363, Minutes: 2.50e+07 (115.731), Range: 1--21136\n",
        "  Longest 10: [ 8836  9584  9722 10421 10619 10772 11945 12232 16573 21136]\n",
        "  2400: count:447, sum:6.9%  8880: count:9, sum:0.5%\n",
        "Week"
       ]
      },
      {
       "output_type": "stream",
       "stream": "stdout",
       "text": [
        " 23\n",
        "  Tasks: 169967, Minutes: 2.49e+07 (115.167), Range: 1--16541\n",
        "  Longest 10: [ 9842  9902  9970 10884 11252 11349 11627 11761 15420 16541]\n",
        "  2400: count:419, sum:6.4%  8880: count:14, sum:0.6%\n",
        "Week"
       ]
      },
      {
       "output_type": "stream",
       "stream": "stdout",
       "text": [
        " 24\n",
        "  Tasks: 169018, Minutes: 2.47e+07 (114.153), Range: 1--16450\n",
        "  Longest 10: [ 9771  9922 10093 10160 10432 11404 11452 14132 15809 16450]\n",
        "  2400: count:427, sum:6.6%  8880: count:11, sum:0.5%\n",
        "Week"
       ]
      },
      {
       "output_type": "stream",
       "stream": "stdout",
       "text": [
        " 25\n",
        "  Tasks: 169436, Minutes: 2.47e+07 (114.172), Range: 1--25332\n",
        "  Longest 10: [ 9731  9961 10447 10458 10989 11657 12278 12578 13756 25332]\n",
        "  2400: count:437, sum:6.8%  8880: count:10, sum:0.5%\n",
        "Week"
       ]
      },
      {
       "output_type": "stream",
       "stream": "stdout",
       "text": [
        " 26\n",
        "  Tasks: 169633, Minutes: 2.50e+07 (115.823), Range: 1--23266\n",
        "  Longest 10: [10652 11226 11469 11651 11790 11806 14629 16165 21193 23266]\n",
        "  2400: count:464, sum:7.2%  8880: count:15, sum:0.8%\n",
        "Week"
       ]
      },
      {
       "output_type": "stream",
       "stream": "stdout",
       "text": [
        " 27\n",
        "  Tasks: 169511, Minutes: 2.49e+07 (115.160), Range: 1--20514\n",
        "  Longest 10: [11904 11994 12482 12618 13308 14662 16419 16433 19835 20514]\n",
        "  2400: count:439, sum:6.7%  8880: count:16, sum:0.9%\n",
        "Week"
       ]
      },
      {
       "output_type": "stream",
       "stream": "stdout",
       "text": [
        " 28\n",
        "  Tasks: 169776, Minutes: 2.51e+07 (116.098), Range: 1--20085\n",
        "  Longest 10:"
       ]
      },
      {
       "output_type": "stream",
       "stream": "stdout",
       "text": [
        " [ 8940  9147 10200 10201 11887 13810 14040 15773 17064 20085]\n",
        "  2400: count:474, sum:7.1%  8880: count:10, sum:0.5%\n",
        "Week"
       ]
      },
      {
       "output_type": "stream",
       "stream": "stdout",
       "text": [
        " 29\n",
        "  Tasks: 169111, Minutes: 2.47e+07 (114.282), Range: 1--17697\n",
        "  Longest 10: [ 8503  9105  9141 10277 11043 11702 12214 12358 13902 17697]\n",
        "  2400: count:415, sum:6.4%  8880: count:9, sum:0.4%\n",
        "Week"
       ]
      },
      {
       "output_type": "stream",
       "stream": "stdout",
       "text": [
        " 30\n",
        "  Tasks: 168120, Minutes: 2.48e+07 (114.584), Range: 1--25239\n",
        "  Longest 10: [ 8552  8603  9055  9824 10239 10896 11252 11708 12471 25239]\n",
        "  2400: count:446, sum:6.9%  8880: count:8, sum:0.4%\n",
        "Week"
       ]
      },
      {
       "output_type": "stream",
       "stream": "stdout",
       "text": [
        " 31\n",
        "  Tasks: 169644, Minutes: 2.49e+07 (115.296), Range: 1--38684\n",
        "  Longest 10: [ 9228  9393  9436  9562  9971 10859 11668 15249 17401 38684]\n",
        "  2400: count:435, sum:6.7%  8880: count:13, sum:0.7%\n",
        "Week"
       ]
      },
      {
       "output_type": "stream",
       "stream": "stdout",
       "text": [
        " 32\n",
        "  Tasks: 169208, Minutes: 2.47e+07 (114.304), Range: 1--27801\n",
        "  Longest 10: [10247 10918 10955 11042 12040 12105 13480 22684 25673 27801]\n",
        "  2400: count:405, sum:6.3%  8880: count:14, sum:0.8%\n",
        "Week"
       ]
      },
      {
       "output_type": "stream",
       "stream": "stdout",
       "text": [
        " 33\n",
        "  Tasks: 168732, Minutes: 2.46e+07 (114.080), Range: 1--19520\n",
        "  Longest 10:"
       ]
      },
      {
       "output_type": "stream",
       "stream": "stdout",
       "text": [
        " [ 8167  8784  8862  9202 10879 11191 12186 12723 13727 19520]\n",
        "  2400: count:424, sum:6.4%  8880: count:7, sum:0.4%\n",
        "Week"
       ]
      },
      {
       "output_type": "stream",
       "stream": "stdout",
       "text": [
        " 34\n",
        "  Tasks: 169627, Minutes: 2.49e+07 (115.483), Range: 1--25895\n",
        "  Longest 10:"
       ]
      },
      {
       "output_type": "stream",
       "stream": "stdout",
       "text": [
        " [11478 11965 12016 12216 13534 14076 16066 18554 20689 25895]\n",
        "  2400: count:441, sum:7.0%  8880: count:18, sum:1.0%\n",
        "Week"
       ]
      },
      {
       "output_type": "stream",
       "stream": "stdout",
       "text": [
        " 35\n",
        "  Tasks: 170020, Minutes: 2.49e+07 (115.168), Range: 1--15829\n",
        "  Longest 10: [10216 10913 11088 11366 11619 11858 13139 13909 14404 15829]\n",
        "  2400: count:450, sum:7.1%  8880: count:12, sum:0.6%\n",
        "Week"
       ]
      },
      {
       "output_type": "stream",
       "stream": "stdout",
       "text": [
        " 36\n",
        "  Tasks: 169510, Minutes: 2.49e+07 (115.224), Range: 1--23856\n",
        "  Longest 10: [ 8685  8968  9258  9335  9707  9889 10262 10624 12021 23856]\n",
        "  2400: count:448, sum:6.7%  8880: count:9, sum:0.4%\n",
        "Week"
       ]
      },
      {
       "output_type": "stream",
       "stream": "stdout",
       "text": [
        " 37\n",
        "  Tasks: 169475, Minutes: 2.48e+07 (114.884), Range: 1--20156\n",
        "  Longest 10: [ 8959  9216  9715  9798 10828 10991 11157 11283 12587 20156]\n",
        "  2400: count:428, sum:6.4%  8880: count:10, sum:0.5%\n",
        "Week"
       ]
      },
      {
       "output_type": "stream",
       "stream": "stdout",
       "text": [
        " 38\n",
        "  Tasks: 168548, Minutes: 2.47e+07 (114.258), Range: 1--30392\n",
        "  Longest 10: [ 9007  9962 10586 11178 12213 14631 15229 19407 19445 30392]\n",
        "  2400: count:405, sum:6.2%  8880: count:11, sum:0.7%\n",
        "Week"
       ]
      },
      {
       "output_type": "stream",
       "stream": "stdout",
       "text": [
        " 39\n",
        "  Tasks: 169192, Minutes: 2.49e+07 (115.246), Range: 1--22484\n",
        "  Longest 10: [ 8691  8873  9064  9077  9596 14614 16186 19798 21951 22484]\n",
        "  2400: count:435, sum:6.6%  8880: count:8, sum:0.5%\n",
        "Week"
       ]
      },
      {
       "output_type": "stream",
       "stream": "stdout",
       "text": [
        " 40\n",
        "  Tasks: 169397, Minutes: 2.47e+07 (114.492), Range: 1--15392\n",
        "  Longest 10: [ 8896  9218  9725 10617 10863 11282 12192 14183 14208 15392]\n",
        "  2400: count:413, sum:6.4%  8880: count:10, sum:0.5%\n",
        "Week"
       ]
      },
      {
       "output_type": "stream",
       "stream": "stdout",
       "text": [
        " 41\n",
        "  Tasks: 169789, Minutes: 2.50e+07 (115.879), Range: 1--30416\n",
        "  Longest 10: [ 9239  9451 11220 12877 15263 15312 15919 17110 25777 30416]\n",
        "  2400: count:449, sum:7.0%  8880: count:12, sum:0.7%\n"
       ]
      }
     ],
     "prompt_number": 106
    },
    {
     "cell_type": "markdown",
     "metadata": {},
     "source": [
      "For weeks 42--44, all bets are off!"
     ]
    },
    {
     "cell_type": "code",
     "collapsed": false,
     "input": [
      "for w in range(42,45): week_summary2(w)"
     ],
     "language": "python",
     "metadata": {},
     "outputs": [
      {
       "output_type": "stream",
       "stream": "stdout",
       "text": [
        "Week 42\n",
        "  Tasks: 983536, Minutes: 1.10e+10 (50932.316), Range: 17--22387"
       ]
      },
      {
       "output_type": "stream",
       "stream": "stdout",
       "text": [
        "\n",
        "  Longest 10:"
       ]
      },
      {
       "output_type": "stream",
       "stream": "stdout",
       "text": [
        " [22387 22387 22387 22387 22387 22387 22387 22387 22387 22387]\n",
        "  2400: count:878503, sum:98.8%  8880: count:592626, sum:84.2%\n",
        "Week"
       ]
      },
      {
       "output_type": "stream",
       "stream": "stdout",
       "text": [
        " 43\n",
        "  Tasks: 984217, Minutes: 1.10e+10 (51036.612), Range: 17--22387"
       ]
      },
      {
       "output_type": "stream",
       "stream": "stdout",
       "text": [
        "\n",
        "  Longest 10:"
       ]
      },
      {
       "output_type": "stream",
       "stream": "stdout",
       "text": [
        " [22387 22387 22387 22387 22387 22387 22387 22387 22387 22387]\n",
        "  2400: count:879550, sum:98.9%  8880: count:593837, sum:84.2%\n",
        "Week"
       ]
      },
      {
       "output_type": "stream",
       "stream": "stdout",
       "text": [
        " 44\n",
        "  Tasks: 465710, Minutes: 3.18e+09 (14711.993), Range: 1--22387"
       ]
      },
      {
       "output_type": "stream",
       "stream": "stdout",
       "text": [
        "\n",
        "  Longest 10: [22387 22387 22387 22387 22387 22387 22387 22387 22387 22387]\n",
        "  2400: count:251533, sum:98.3%  8880: count:170433, sum:83.9%\n"
       ]
      }
     ],
     "prompt_number": 107
    },
    {
     "cell_type": "markdown",
     "metadata": {},
     "source": [
      "The final few weeks then look like the start again, for what it's worth..."
     ]
    },
    {
     "cell_type": "code",
     "collapsed": false,
     "input": [
      "for w in range(45,52): week_summary2(w)"
     ],
     "language": "python",
     "metadata": {},
     "outputs": [
      {
       "output_type": "stream",
       "stream": "stdout",
       "text": [
        "Week 45\n",
        "  Tasks: 256623, Minutes: 2.16e+07 (100.163), Range: 1--5034\n",
        "  Longest 10:"
       ]
      },
      {
       "output_type": "stream",
       "stream": "stdout",
       "text": [
        " [3226 3260 3336 3338 3358 3498 3834 3952 5032 5034]\n",
        "  2400: count:28, sum:0.4%  8880: count:0, sum:0.0%\n",
        "Week"
       ]
      },
      {
       "output_type": "stream",
       "stream": "stdout",
       "text": [
        " 46\n",
        "  Tasks: 257440, Minutes: 2.17e+07 (100.552), Range: 1--7943\n",
        "  Longest 10:"
       ]
      },
      {
       "output_type": "stream",
       "stream": "stdout",
       "text": [
        " [3130 3238 3498 3812 3963 3988 4388 4610 4874 7943]\n",
        "  2400: count:21, sum:0.3%  8880: count:0, sum:0.0%\n",
        "Week"
       ]
      },
      {
       "output_type": "stream",
       "stream": "stdout",
       "text": [
        " 47\n",
        "  Tasks: 258107, Minutes: 2.17e+07 (100.550), Range: 1--4446"
       ]
      },
      {
       "output_type": "stream",
       "stream": "stdout",
       "text": [
        "\n",
        "  Longest 10: [2745 2758 2786 2897 3014 3086 3298 3309 4160 4446]\n",
        "  2400: count:20, sum:0.3%  8880: count:0, sum:0.0%\n",
        "Week"
       ]
      },
      {
       "output_type": "stream",
       "stream": "stdout",
       "text": [
        " 48\n",
        "  Tasks: 257154, Minutes: 2.17e+07 (100.384), Range: 1--8909\n",
        "  Longest 10:"
       ]
      },
      {
       "output_type": "stream",
       "stream": "stdout",
       "text": [
        " [2619 2696 2998 3150 3431 4121 4187 4319 4796 8909]\n",
        "  2400: count:11, sum:0.2%  8880: count:1, sum:0.0%\n",
        "Week 49\n",
        "  Tasks: 36873, Minutes: 3.11e+06 (14.390), Range: 1--2822"
       ]
      },
      {
       "output_type": "stream",
       "stream": "stdout",
       "text": [
        "\n",
        "  Longest 10: [1809 1817 1850 1950 1970 2080 2427 2445 2477 2822]\n",
        "  2400: count:4, sum:0.3%  8880: count:0, sum:0.0%\n",
        "Week 50 : no data!\n",
        "Week 51 : no data!\n"
       ]
      }
     ],
     "prompt_number": 109
    },
    {
     "cell_type": "heading",
     "level": 1,
     "metadata": {},
     "source": [
      "Some thoughts"
     ]
    },
    {
     "cell_type": "markdown",
     "metadata": {},
     "source": [
      "Cheating a little, and seeing how other people are doing, 190million minutes is what to aim for.  This is about 360 years!\n",
      "   - One strategy would be to ignore the very long tasks, and basically max out the elves: this is the natural thing to do for the 1st 15 weeks, for example.\n",
      "   - However, that doesn't seem super sensible, given the distribution of tasks:"
     ]
    },
    {
     "cell_type": "code",
     "collapsed": false,
     "input": [
      "import collections\n",
      "c = collections.Counter(toys[:,1])\n",
      "x = [ 1 ]\n",
      "y = [ c[1] ]\n",
      "for length in range(2,max(c)+1):\n",
      "    x.append(length)\n",
      "    y.append( y[-1] + length*c[length] )\n",
      "print(\"Cumulate density of total task length against item length\")\n",
      "norm = 100 / y[-1]\n",
      "y = [t*norm for t in y]\n",
      "plt.scatter(x,y)"
     ],
     "language": "python",
     "metadata": {},
     "outputs": [
      {
       "output_type": "stream",
       "stream": "stdout",
       "text": [
        "Cumulate density of total task length against item length\n"
       ]
      },
      {
       "metadata": {},
       "output_type": "pyout",
       "prompt_number": 122,
       "text": [
        "<matplotlib.collections.PathCollection at 0x7358240>"
       ]
      },
      {
       "metadata": {},
       "output_type": "display_data",
       "png": "[encoded data removed]",
       "text": [
        "<matplotlib.figure.Figure at 0x6a99438>"
       ]
      }
     ],
     "prompt_number": 122
    },
    {
     "cell_type": "code",
     "collapsed": false,
     "input": [
      "def summary(cutoff):\n",
      "    bad = toys[:,1]\n",
      "    bad = bad[ bad > cutoff ]\n",
      "    print(\"Tasks over\",cutoff,\"count:\",len(bad),\"sum to\",np.sum(bad),\"or {:.2f}%\".format(\n",
      "        np.sum(bad)/np.sum(toys[:,1])*100) )\n",
      "def sumlow(cutoff):\n",
      "    bad = toys[:,1]\n",
      "    bad = bad[ bad <= cutoff ]\n",
      "    print(\"Tasks <=\",cutoff,\"sum to\",np.sum(bad),\" / 755338 = \",np.sum(bad)/755338)\n",
      "    \n",
      "summary(8880)\n",
      "summary(14868)\n",
      "sumlow(150)\n",
      "sumlow(300)\n",
      "sumlow(600)"
     ],
     "language": "python",
     "metadata": {},
     "outputs": [
      {
       "output_type": "stream",
       "stream": "stdout",
       "text": [
        "Tasks over 8880 count: 1357329 sum to 21220763040 or 81.61%\n",
        "Tasks over 14868 count: 755338 sum to 14072622525 or 54.12%\n",
        "Tasks <="
       ]
      },
      {
       "output_type": "stream",
       "stream": "stdout",
       "text": [
        " 150 sum to 270948165  / 755338 =  358.711153153\n",
        "Tasks <="
       ]
      },
      {
       "output_type": "stream",
       "stream": "stdout",
       "text": [
        " 300 sum to 436057337  / 755338 =  577.300939447\n",
        "Tasks <="
       ]
      },
      {
       "output_type": "stream",
       "stream": "stdout",
       "text": [
        " 600 sum to 605026860  / 755338 =  801.001485428\n"
       ]
      }
     ],
     "prompt_number": 132
    },
    {
     "cell_type": "markdown",
     "metadata": {},
     "source": [
      "So if we were picking 8880 as a (slightly arbitrary) \"cutoff\" of what a truly \"long\" task is, then over 80% of the total work consists of tasks longer than that.  14868 is a true absolute cutoff, and over 50% of the work is of this type.\n",
      "\n",
      "Furthermore, to recharge, we need plenty of small tasks: from the stats above, there just aren't enough (to get a 0.25 elf back to 1.0 need 2250mins of small tasks.)\n",
      "\n",
      "So we're actually going to spend _most_ of the time trying to attack these very long tasks, and it's impossible to get our elves recharged much at all.  It really becomes a game of damage limitation: can we do _anything_ about not getting tasks of circa 15000 always being worked on by 0.25 elves?\n",
      "\n",
      "   - Note that a small recharge can make a big difference: a day recharging gets the elf to 0.3047 and then attacking a 15000 task saves 10779 minutes!\n",
      "   - We use about 150 minutes of toy time to recharge"
     ]
    },
    {
     "cell_type": "code",
     "collapsed": false,
     "input": [
      "t = toys[:,1]\n",
      "t.sort()\n",
      "print(\"900th most extreme values:\", t[-900],\"--\",t[-1])\n",
      "print(\"but... 10000th most extreme value:\", t[-10000])\n",
      "print(\"but... 100000th most extreme value:\", t[-100000])\n",
      "print(\"but... 1000000th most extreme value:\", t[-1000000])"
     ],
     "language": "python",
     "metadata": {},
     "outputs": [
      {
       "output_type": "stream",
       "stream": "stdout",
       "text": [
        "900th most extreme values: 22379 -- 47473\n",
        "but... 10000th most extreme value: 22290\n",
        "but... 100000th most extreme value: 21392\n",
        "but... 1000000th most extreme value: 12435\n"
       ]
      }
     ],
     "prompt_number": 4
    },
    {
     "cell_type": "markdown",
     "metadata": {},
     "source": [
      "If we're going to play a game of the elf being very close 0.25 productivity all the time (and I don't see how to escape this, from this theorectical analysis, and playing with the 1/900th dataset):\n",
      "\n",
      "   - It's completely irrelevant when we _start_ such a task: we'll always be wiped out.\n",
      "   - There are quite a few small tasks; to a first approximation, let's not worry about running out of these (but revisit this!)\n",
      "   - Tasks of \"smallish\" size may well be left over: there is some optimisation to be had here, but the total time spent on these is small, so it's not worth worry too much about this. (And in the full problem, a lot of these arrive in the 1st weeks, and the choice will come down to doing them straight out, or deliberately saving them...)\n",
      "   - The problem then becomes really: what productivity do we aim for tasks of varying difficulty, balanced against running out of the smaller tasks we can use to recharge."
     ]
    },
    {
     "cell_type": "code",
     "collapsed": false,
     "input": [
      "s = t[t>=100]\n",
      "s = s[s<=150]\n",
      "print(len(s), t[-len(s)])\n",
      "s"
     ],
     "language": "python",
     "metadata": {},
     "outputs": [
      {
       "output_type": "stream",
       "stream": "stdout",
       "text": [
        "685959 15558\n"
       ]
      },
      {
       "metadata": {},
       "output_type": "pyout",
       "prompt_number": 11,
       "text": [
        "array([100, 100, 100, ..., 150, 150, 150], dtype=int64)"
       ]
      }
     ],
     "prompt_number": 11
    },
    {
     "cell_type": "code",
     "collapsed": false,
     "input": [],
     "language": "python",
     "metadata": {},
     "outputs": []
    }
   ],
   "metadata": {}
  }
 ]
}