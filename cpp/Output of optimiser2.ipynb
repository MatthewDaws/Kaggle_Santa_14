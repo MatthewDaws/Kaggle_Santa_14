{
 "metadata": {
  "name": "",
  "signature": "sha256:0ab7b839d56ac75102cbc7c65c500f996891d55ac92251cc04679f1a6a1d3d0d"
 },
 "nbformat": 3,
 "nbformat_minor": 0,
 "worksheets": [
  {
   "cells": [
    {
     "cell_type": "code",
     "collapsed": false,
     "input": [
      "import numpy as np\n",
      "import math\n",
      "tasks = np.load(\"opt2_notused.npy\")"
     ],
     "language": "python",
     "metadata": {},
     "outputs": [],
     "prompt_number": 1
    },
    {
     "cell_type": "markdown",
     "metadata": {},
     "source": [
      "These are the unused tasks from Optimiser 2.  Have a play to see what we can do with them."
     ]
    },
    {
     "cell_type": "code",
     "collapsed": false,
     "input": [
      "print(\"Min:\", np.min(tasks), \"need productivity\",223/600)\n",
      "print(\"Max:\", np.max(tasks))"
     ],
     "language": "python",
     "metadata": {},
     "outputs": [
      {
       "output_type": "stream",
       "stream": "stdout",
       "text": [
        "Min: 223 need productivity 0.37166666666666665\n",
        "Max: 9016\n"
       ]
      }
     ],
     "prompt_number": 6
    },
    {
     "cell_type": "code",
     "collapsed": false,
     "input": [
      "import elf\n",
      "\n",
      "def time_prod_from_start(length, startprod):\n",
      "    \"\"\"Assume start task at 9am, of `length` with `startprod` productivity.\n",
      "    Returns the total minutes taken, and the ending productivity.\"\"\"\n",
      "    elflen = int(math.ceil(length / startprod))\n",
      "    san, unsan, el = 0, 0, elflen\n",
      "    while el > 0:\n",
      "        san += min(el, elf.sanctionedminsday)\n",
      "        el -= min(el, elf.sanctionedminsday)\n",
      "        unsan += min(el, elf.unsanctionedminsday)\n",
      "        el -= min(el, elf.unsanctionedminsday)\n",
      "    prod = startprod * 1.02**(san/60) * 0.9**(unsan/60)\n",
      "    prod = min(4.0, max(0.25, prod))\n",
      "    return elflen, prod\n",
      "\n",
      "time_prod_from_start(9016, 3.37)"
     ],
     "language": "python",
     "metadata": {},
     "outputs": [
      {
       "metadata": {},
       "output_type": "pyout",
       "prompt_number": 24,
       "text": [
        "(2676, 0.37497219782456476)"
       ]
      }
     ],
     "prompt_number": 24
    },
    {
     "cell_type": "code",
     "collapsed": false,
     "input": [
      "e = elf.Elf(1)\n",
      "e.do_task(e.available_to_work, 223)\n",
      "e.productivity, e.available_to_work"
     ],
     "language": "python",
     "metadata": {},
     "outputs": [
      {
       "metadata": {},
       "output_type": "pyout",
       "prompt_number": 35,
       "text": [
        "(1.0763759157263588, 763)"
       ]
      }
     ],
     "prompt_number": 35
    },
    {
     "cell_type": "code",
     "collapsed": false,
     "input": [],
     "language": "python",
     "metadata": {},
     "outputs": []
    }
   ],
   "metadata": {}
  }
 ]
}