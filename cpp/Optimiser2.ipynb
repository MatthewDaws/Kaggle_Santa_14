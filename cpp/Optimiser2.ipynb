{
 "metadata": {
  "name": "",
  "signature": "sha256:6a3b678a9a3af394e3c927e3ff44b93c44175d92629c3d9ac0221db9512f7b7d"
 },
 "nbformat": 3,
 "nbformat_minor": 0,
 "worksheets": [
  {
   "cells": [
    {
     "cell_type": "code",
     "collapsed": false,
     "input": [
      "%matplotlib inline\n",
      "import numpy as np\n",
      "import matplotlib.pyplot as plt\n",
      "import math"
     ],
     "language": "python",
     "metadata": {},
     "outputs": [],
     "prompt_number": 2
    },
    {
     "cell_type": "heading",
     "level": 1,
     "metadata": {},
     "source": [
      "Some notes about the 2nd version"
     ]
    },
    {
     "cell_type": "markdown",
     "metadata": {},
     "source": [
      "What is the best ordering: small followed by longer, or the other way around?  The following shows that:\n",
      "   - To minimise the total time, do the shorter tasks first.\n",
      "   - However, to maximise the productivity, we want the opposite, so do the longer task first."
     ]
    },
    {
     "cell_type": "code",
     "collapsed": false,
     "input": [
      "def compare(a,b):\n",
      "    time1 = math.ceil(a/0.25)\n",
      "    p1 = 0.25 * 1.02**(time1/60)\n",
      "    time2 = math.ceil(b/p1)\n",
      "    p2 = p1 * 1.02**(time2/60)\n",
      "    return (time1+time2, p2, math.ceil(20000/p2))\n",
      "\n",
      "print(compare(50,100))\n",
      "print(compare(100,50))\n",
      "print()\n",
      "print(compare(20,100))\n",
      "print(compare(100,20))"
     ],
     "language": "python",
     "metadata": {},
     "outputs": [
      {
       "output_type": "stream",
       "stream": "stdout",
       "text": [
        "(575, 0.3022444406527482, 66172)\n",
        "(576, 0.30234421101631337, 66150)\n",
        "\n",
        "(470, 0.29194969158985873, 68505)\n",
        "(471, 0.2920460636746844, 68483)\n"
       ]
      }
     ],
     "prompt_number": 2
    },
    {
     "cell_type": "heading",
     "level": 2,
     "metadata": {},
     "source": [
      "What does the algorithm do?"
     ]
    },
    {
     "cell_type": "code",
     "collapsed": false,
     "input": [
      "out = np.load(\"opt2.npy\")\n",
      "out"
     ],
     "language": "python",
     "metadata": {},
     "outputs": [
      {
       "metadata": {},
       "output_type": "pyout",
       "prompt_number": 3,
       "text": [
        "array([[    884,     150],\n",
        "       [  13969,     182],\n",
        "       [  13745,     222],\n",
        "       ..., \n",
        "       [8711501,    5507],\n",
        "       [4887793,       4],\n",
        "       [6846450,    5507]])"
       ]
      }
     ],
     "prompt_number": 3
    },
    {
     "cell_type": "code",
     "collapsed": false,
     "input": [
      "out[:20]\n",
      "#out[25000:25050]"
     ],
     "language": "python",
     "metadata": {},
     "outputs": [
      {
       "metadata": {},
       "output_type": "pyout",
       "prompt_number": 4,
       "text": [
        "array([[    884,     150],\n",
        "       [  13969,     182],\n",
        "       [  13745,     222],\n",
        "       [   1102,     271],\n",
        "       [2032434,   47473],\n",
        "       [   5797,     150],\n",
        "       [  16279,     182],\n",
        "       [  33841,     222],\n",
        "       [4743126,   38684],\n",
        "       [   7466,     150],\n",
        "       [  21228,     182],\n",
        "       [  41684,     222],\n",
        "       [2373538,   36989],\n",
        "       [   9504,     150],\n",
        "       [  23401,     182],\n",
        "       [  66525,     222],\n",
        "       [2855922,   32332],\n",
        "       [  15208,     150],\n",
        "       [  26777,     182],\n",
        "       [  91011,     222]])"
       ]
      }
     ],
     "prompt_number": 4
    },
    {
     "cell_type": "code",
     "collapsed": false,
     "input": [
      "toysused = out[:,1]\n",
      "#toysused.sort()\n",
      "toys = np.load(\"../toys_rev2.npy\")\n",
      "toylens = toys[:,1]\n",
      "#toylens.sort()\n",
      "print(len(toylens), len(toysused))"
     ],
     "language": "python",
     "metadata": {},
     "outputs": [
      {
       "output_type": "stream",
       "stream": "stdout",
       "text": [
        "10000000 8754782\n"
       ]
      }
     ],
     "prompt_number": 6
    },
    {
     "cell_type": "code",
     "collapsed": false,
     "input": [
      "import collections\n",
      "usedc = collections.Counter(toysused)\n",
      "allc = collections.Counter(toylens)\n",
      "notused = []\n",
      "for length in allc:\n",
      "    notused += [int(length)]*( allc[length] - usedc[length] )\n",
      "print(\"Not used length:\",len(notused))\n",
      "print(\"Ranges from\",min(notused),max(notused))"
     ],
     "language": "python",
     "metadata": {},
     "outputs": [
      {
       "output_type": "stream",
       "stream": "stdout",
       "text": [
        "Not used length: 1245218\n",
        "Ranges from"
       ]
      },
      {
       "output_type": "stream",
       "stream": "stdout",
       "text": [
        " 237 5506\n"
       ]
      }
     ],
     "prompt_number": 7
    },
    {
     "cell_type": "code",
     "collapsed": false,
     "input": [
      "import collections\n",
      "c = collections.Counter(notused)\n",
      "print(np.min(notused), np.max(notused))"
     ],
     "language": "python",
     "metadata": {},
     "outputs": [
      {
       "output_type": "stream",
       "stream": "stdout",
       "text": [
        "237 5506\n"
       ]
      }
     ],
     "prompt_number": 8
    },
    {
     "cell_type": "code",
     "collapsed": false,
     "input": [
      "x = list(range(np.min(notused), np.max(notused)+1))\n",
      "y = [c[n] for n in x]\n",
      "plt.scatter(x,y)"
     ],
     "language": "python",
     "metadata": {},
     "outputs": [
      {
       "metadata": {},
       "output_type": "pyout",
       "prompt_number": 9,
       "text": [
        "<matplotlib.collections.PathCollection at 0x10a64550>"
       ]
      },
      {
       "metadata": {},
       "output_type": "display_data",
       "png": "[encoded data removed]",
       "text": [
        "<matplotlib.figure.Figure at 0x1001c860>"
       ]
      }
     ],
     "prompt_number": 9
    },
    {
     "cell_type": "code",
     "collapsed": false,
     "input": [
      "x = list(range(np.min(notused), np.min(notused)+100))\n",
      "y = [c[n] for n in x]\n",
      "plt.scatter(x,y)"
     ],
     "language": "python",
     "metadata": {},
     "outputs": [
      {
       "metadata": {},
       "output_type": "pyout",
       "prompt_number": 10,
       "text": [
        "<matplotlib.collections.PathCollection at 0x109f2470>"
       ]
      },
      {
       "metadata": {},
       "output_type": "display_data",
       "png": "[encoded data removed]",
       "text": [
        "<matplotlib.figure.Figure at 0x10a33cc0>"
       ]
      }
     ],
     "prompt_number": 10
    },
    {
     "cell_type": "heading",
     "level": 2,
     "metadata": {},
     "source": [
      "For older algorithm..."
     ]
    },
    {
     "cell_type": "code",
     "collapsed": false,
     "input": [
      "print(\"Total elf minutes:\",sum(notused)*4)\n",
      "print(\"For 900 elves:\", sum(notused)*4/900)\n",
      "print(\"For 900 elves, days:\", sum(notused)*4/900/600)\n",
      "print(\"For 900 elves, real minutes:\", sum(notused)*4/900/600*24*60/1000000, \"millions\")"
     ],
     "language": "python",
     "metadata": {},
     "outputs": [
      {
       "output_type": "stream",
       "stream": "stdout",
       "text": [
        "Total elf minutes: 7737314648\n",
        "For 900 elves: 8597016.275555555\n",
        "For 900 elves, days: 14328.360459259258\n",
        "For 900 elves, real minutes:"
       ]
      },
      {
       "output_type": "stream",
       "stream": "stdout",
       "text": [
        " 20.632839061333332 millions\n"
       ]
      }
     ],
     "prompt_number": 11
    },
    {
     "cell_type": "heading",
     "level": 2,
     "metadata": {},
     "source": [
      "For \"new\" algorithm..."
     ]
    },
    {
     "cell_type": "markdown",
     "metadata": {},
     "source": [
      "If we run the new algorithm, then we burn through a lot of tasks, and are only left with \"long\" tasks, wchih we can only hope to run at 0.25 productivity"
     ]
    },
    {
     "cell_type": "code",
     "collapsed": false,
     "input": [
      "print(\"Total elf minutes:\",sum(notused)*4)\n",
      "print(\"For 900 elves:\", sum(notused)*4/900)\n",
      "print(\"For 900 elves, days:\", sum(notused)*4/900/600)\n",
      "print(\"For 900 elves, real minutes:\", sum(notused)*4/900/600*24*60/1000000, \"millions\")"
     ],
     "language": "python",
     "metadata": {},
     "outputs": [
      {
       "output_type": "stream",
       "stream": "stdout",
       "text": [
        "Total elf minutes: 5972966392\n",
        "For 900 elves: 6636629.324444445\n",
        "For 900 elves, days: 11061.048874074075\n",
        "For 900 elves, real minutes: 15.927910378666667 millions\n"
       ]
      }
     ],
     "prompt_number": 162
    },
    {
     "cell_type": "code",
     "collapsed": false,
     "input": [],
     "language": "python",
     "metadata": {},
     "outputs": [
      {
       "metadata": {},
       "output_type": "pyout",
       "prompt_number": 149,
       "text": [
        "int"
       ]
      }
     ],
     "prompt_number": 149
    },
    {
     "cell_type": "heading",
     "level": 3,
     "metadata": {},
     "source": [
      "Messing about"
     ]
    },
    {
     "cell_type": "code",
     "collapsed": false,
     "input": [
      "out[out[:,1] == 237]"
     ],
     "language": "python",
     "metadata": {},
     "outputs": [
      {
       "metadata": {},
       "output_type": "pyout",
       "prompt_number": 86,
       "text": [
        "array([], shape=(0, 2), dtype=int32)"
       ]
      }
     ],
     "prompt_number": 86
    },
    {
     "cell_type": "code",
     "collapsed": false,
     "input": [
      "out[-20:]"
     ],
     "language": "python",
     "metadata": {},
     "outputs": [
      {
       "metadata": {},
       "output_type": "pyout",
       "prompt_number": 22,
       "text": [
        "array([[9549739,       6],\n",
        "       [7615384,    5958],\n",
        "       [9561718,       6],\n",
        "       [7802927,    5958],\n",
        "       [9559694,       6],\n",
        "       [7990020,    5958],\n",
        "       [9552020,       6],\n",
        "       [8539399,    5958],\n",
        "       [9561918,       6],\n",
        "       [7148281,    5958],\n",
        "       [9561371,       6],\n",
        "       [7172191,    5958],\n",
        "       [9561558,       6],\n",
        "       [7837178,    5958],\n",
        "       [9553598,       6],\n",
        "       [6735528,    5958],\n",
        "       [9559017,       6],\n",
        "       [6874087,    5958],\n",
        "       [9551284,       6],\n",
        "       [8599281,    5958]])"
       ]
      }
     ],
     "prompt_number": 22
    },
    {
     "cell_type": "code",
     "collapsed": false,
     "input": [
      "np.save(\"opt2_notused.npy\", notused)"
     ],
     "language": "python",
     "metadata": {},
     "outputs": [],
     "prompt_number": 196
    },
    {
     "cell_type": "code",
     "collapsed": false,
     "input": [
      "x = list(set( out[:,1] ))\n",
      "x.sort()"
     ],
     "language": "python",
     "metadata": {},
     "outputs": [],
     "prompt_number": 24
    },
    {
     "cell_type": "code",
     "collapsed": false,
     "input": [
      "x[-10:]"
     ],
     "language": "python",
     "metadata": {},
     "outputs": [
      {
       "metadata": {},
       "output_type": "pyout",
       "prompt_number": 25,
       "text": [
        "[27334, 27801, 30392, 30416, 30465, 30863, 32332, 36989, 38684, 47473]"
       ]
      }
     ],
     "prompt_number": 25
    },
    {
     "cell_type": "code",
     "collapsed": false,
     "input": [
      "47473 - 38684"
     ],
     "language": "python",
     "metadata": {},
     "outputs": [
      {
       "metadata": {},
       "output_type": "pyout",
       "prompt_number": 26,
       "text": [
        "8789"
       ]
      }
     ],
     "prompt_number": 26
    },
    {
     "cell_type": "code",
     "collapsed": false,
     "input": [],
     "language": "python",
     "metadata": {},
     "outputs": []
    }
   ],
   "metadata": {}
  }
 ]
}