{
 "metadata": {
  "name": "",
  "signature": "sha256:31e4b8894f2a634328218808716714c11aa4c278e7e32cb942b98ece9d81afc3"
 },
 "nbformat": 3,
 "nbformat_minor": 0,
 "worksheets": [
  {
   "cells": [
    {
     "cell_type": "code",
     "collapsed": false,
     "input": [
      "%matplotlib inline\n",
      "import numpy as np\n",
      "import matplotlib.pyplot as plt"
     ],
     "language": "python",
     "metadata": {},
     "outputs": [],
     "prompt_number": 1
    },
    {
     "cell_type": "code",
     "collapsed": false,
     "input": [
      "out = np.load(\"optimiser.npy\")"
     ],
     "language": "python",
     "metadata": {},
     "outputs": [],
     "prompt_number": 2
    },
    {
     "cell_type": "code",
     "collapsed": false,
     "input": [
      "import datetime\n",
      "dstart = datetime.datetime(2014,1,1,0)"
     ],
     "language": "python",
     "metadata": {},
     "outputs": [],
     "prompt_number": 3
    },
    {
     "cell_type": "code",
     "collapsed": false,
     "input": [
      "e1 = out[out[:,0]==1][:,1:]\n",
      "pe1 = [ (row[0], dstart + datetime.timedelta(minutes=int(row[1])), row[2]) for row in e1 ]\n",
      "pe1[:50]"
     ],
     "language": "python",
     "metadata": {},
     "outputs": [
      {
       "metadata": {},
       "output_type": "pyout",
       "prompt_number": 4,
       "text": [
        "[(600, datetime.datetime(2014, 1, 1, 9, 0), 600),\n",
        " (47473, datetime.datetime(2014, 1, 1, 19, 0), 38945),\n",
        " (13, datetime.datetime(2014, 3, 7, 18, 5), 52),\n",
        " (152, datetime.datetime(2014, 3, 8, 9, 0), 598),\n",
        " (22370, datetime.datetime(2014, 3, 8, 18, 58), 72204),\n",
        " (99, datetime.datetime(2014, 7, 7, 12, 22), 396),\n",
        " (170, datetime.datetime(2014, 7, 8, 9, 0), 597),\n",
        " (22361, datetime.datetime(2014, 7, 8, 18, 57), 64450),\n",
        " (88, datetime.datetime(2014, 10, 24, 13, 7), 352),\n",
        " (168, datetime.datetime(2014, 10, 25, 9, 0), 599),\n",
        " (22352, datetime.datetime(2014, 10, 25, 18, 59), 65323),\n",
        " (19, datetime.datetime(2015, 2, 11, 17, 42), 76),\n",
        " (153, datetime.datetime(2015, 2, 12, 9, 0), 597),\n",
        " (22344, datetime.datetime(2015, 2, 12, 18, 57), 71575),\n",
        " (107, datetime.datetime(2015, 6, 12, 11, 52), 428),\n",
        " (172, datetime.datetime(2015, 6, 13, 9, 0), 598),\n",
        " (22335, datetime.datetime(2015, 6, 13, 18, 58), 63678),\n",
        " (131, datetime.datetime(2015, 9, 28, 10, 16), 524),\n",
        " (178, datetime.datetime(2015, 9, 29, 9, 0), 599),\n",
        " (22326, datetime.datetime(2015, 9, 29, 18, 59), 61646),\n",
        " (38, datetime.datetime(2016, 1, 10, 16, 25), 152),\n",
        " (157, datetime.datetime(2016, 1, 11, 9, 0), 598),\n",
        " (22317, datetime.datetime(2016, 1, 11, 18, 58), 69694),\n",
        " (127, datetime.datetime(2016, 5, 7, 10, 32), 508),\n",
        " (177, datetime.datetime(2016, 5, 8, 9, 0), 599),\n",
        " (22308, datetime.datetime(2016, 5, 8, 18, 59), 61923),\n",
        " (119, datetime.datetime(2016, 8, 20, 11, 2), 476),\n",
        " (175, datetime.datetime(2016, 8, 21, 9, 0), 599),\n",
        " (22299, datetime.datetime(2016, 8, 21, 18, 59), 62555),\n",
        " (111, datetime.datetime(2016, 12, 4, 11, 34), 444),\n",
        " (173, datetime.datetime(2016, 12, 5, 9, 0), 598),\n",
        " (22292, datetime.datetime(2016, 12, 5, 18, 58), 63220),\n",
        " (95, datetime.datetime(2017, 3, 21, 12, 38), 380),\n",
        " (170, datetime.datetime(2017, 3, 22, 9, 0), 600),\n",
        " (22285, datetime.datetime(2017, 3, 22, 19, 0), 64507),\n",
        " (73, datetime.datetime(2017, 7, 8, 14, 7), 292),\n",
        " (165, datetime.datetime(2017, 7, 9, 9, 0), 600),\n",
        " (22277, datetime.datetime(2017, 7, 9, 19, 0), 66384),\n",
        " (54, datetime.datetime(2017, 10, 28, 15, 24), 216),\n",
        " (161, datetime.datetime(2017, 10, 29, 9, 0), 600),\n",
        " (22268, datetime.datetime(2017, 10, 29, 19, 0), 68043),\n",
        " (89, datetime.datetime(2018, 2, 20, 13, 3), 356),\n",
        " (168, datetime.datetime(2018, 2, 21, 9, 0), 598),\n",
        " (22259, datetime.datetime(2018, 2, 21, 18, 58), 64987),\n",
        " (103, datetime.datetime(2018, 6, 10, 12, 5), 412),\n",
        " (171, datetime.datetime(2018, 6, 11, 9, 0), 598),\n",
        " (22250, datetime.datetime(2018, 6, 11, 18, 58), 63771),\n",
        " (107, datetime.datetime(2018, 9, 26, 11, 49), 428),\n",
        " (172, datetime.datetime(2018, 9, 27, 9, 0), 598),\n",
        " (22242, datetime.datetime(2018, 9, 27, 18, 58), 63412)]"
       ]
      }
     ],
     "prompt_number": 4
    },
    {
     "cell_type": "code",
     "collapsed": false,
     "input": [
      "plt.scatter(e1[:,1], e1[:,2])"
     ],
     "language": "python",
     "metadata": {},
     "outputs": [
      {
       "metadata": {},
       "output_type": "pyout",
       "prompt_number": 5,
       "text": [
        "<matplotlib.collections.PathCollection at 0x107bbcf8>"
       ]
      },
      {
       "metadata": {},
       "output_type": "display_data",
       "png": "[encoded data removed]",
       "text": [
        "<matplotlib.figure.Figure at 0x6cf3c88>"
       ]
      }
     ],
     "prompt_number": 5
    },
    {
     "cell_type": "code",
     "collapsed": false,
     "input": [
      "elves = []\n",
      "for n in range(1,901):\n",
      "    elves.append( out[out[:,0] == n][:,1:] )"
     ],
     "language": "python",
     "metadata": {},
     "outputs": [],
     "prompt_number": 31
    },
    {
     "cell_type": "code",
     "collapsed": false,
     "input": [
      "x = elves[0][:,1]\n",
      "y = elves[0][:,2]\n",
      "plt.scatter(x,y)"
     ],
     "language": "python",
     "metadata": {},
     "outputs": [
      {
       "ename": "NameError",
       "evalue": "name 'elves' is not defined",
       "output_type": "pyerr",
       "traceback": [
        "\u001b[1;31m---------------------------------------------------------------------------\u001b[0m\n\u001b[1;31mNameError\u001b[0m                                 Traceback (most recent call last)",
        "\u001b[1;32m<ipython-input-15-cab2077b3131>\u001b[0m in \u001b[0;36m<module>\u001b[1;34m()\u001b[0m\n\u001b[1;32m----> 1\u001b[1;33m \u001b[0mx\u001b[0m \u001b[1;33m=\u001b[0m \u001b[0melves\u001b[0m\u001b[1;33m[\u001b[0m\u001b[1;36m0\u001b[0m\u001b[1;33m]\u001b[0m\u001b[1;33m[\u001b[0m\u001b[1;33m:\u001b[0m\u001b[1;33m,\u001b[0m\u001b[1;36m1\u001b[0m\u001b[1;33m]\u001b[0m\u001b[1;33m\u001b[0m\u001b[0m\n\u001b[0m\u001b[0;32m      2\u001b[0m \u001b[0my\u001b[0m \u001b[1;33m=\u001b[0m \u001b[0melves\u001b[0m\u001b[1;33m[\u001b[0m\u001b[1;36m0\u001b[0m\u001b[1;33m]\u001b[0m\u001b[1;33m[\u001b[0m\u001b[1;33m:\u001b[0m\u001b[1;33m,\u001b[0m\u001b[1;36m2\u001b[0m\u001b[1;33m]\u001b[0m\u001b[1;33m\u001b[0m\u001b[0m\n\u001b[0;32m      3\u001b[0m \u001b[0mplt\u001b[0m\u001b[1;33m.\u001b[0m\u001b[0mscatter\u001b[0m\u001b[1;33m(\u001b[0m\u001b[0mx\u001b[0m\u001b[1;33m,\u001b[0m\u001b[0my\u001b[0m\u001b[1;33m)\u001b[0m\u001b[1;33m\u001b[0m\u001b[0m\n",
        "\u001b[1;31mNameError\u001b[0m: name 'elves' is not defined"
       ]
      }
     ],
     "prompt_number": 15
    },
    {
     "cell_type": "code",
     "collapsed": false,
     "input": [
      "# Time against actual elf duration, for all tasks\n",
      "plt.scatter(out[:,2],out[:,3])"
     ],
     "language": "python",
     "metadata": {},
     "outputs": [
      {
       "metadata": {},
       "output_type": "pyout",
       "prompt_number": 6,
       "text": [
        "<matplotlib.collections.PathCollection at 0x10cfaa20>"
       ]
      },
      {
       "metadata": {},
       "output_type": "display_data",
       "png": "[encoded data removed]",
       "text": [
        "<matplotlib.figure.Figure at 0x69939b0>"
       ]
      }
     ],
     "prompt_number": 6
    },
    {
     "cell_type": "code",
     "collapsed": false,
     "input": [
      "out[-50:]"
     ],
     "language": "python",
     "metadata": {},
     "outputs": [
      {
       "metadata": {},
       "output_type": "pyout",
       "prompt_number": 6,
       "text": [
        "array([[       91,       181, 225990193,       724],\n",
        "       [      662,       181, 225990193,       724],\n",
        "       [      390,       181, 225990193,       724],\n",
        "       [      273,       181, 225990193,       724],\n",
        "       [       88,       181, 225990193,       724],\n",
        "       [      432,       181, 225990193,       724],\n",
        "       [      134,       181, 225990193,       724],\n",
        "       [       76,       181, 225990193,       724],\n",
        "       [      848,       181, 225990193,       724],\n",
        "       [      690,       181, 225990193,       724],\n",
        "       [      796,       181, 225990193,       724],\n",
        "       [      339,       181, 225990193,       724],\n",
        "       [      410,       181, 225990193,       724],\n",
        "       [      484,       181, 225990193,       724],\n",
        "       [       59,       181, 225990193,       724],\n",
        "       [      501,       181, 225990193,       724],\n",
        "       [      176,       181, 225990193,       724],\n",
        "       [      361,       181, 225990193,       724],\n",
        "       [      167,       181, 225990193,       724],\n",
        "       [      420,       181, 225990193,       724],\n",
        "       [      141,       181, 225990193,       724],\n",
        "       [      510,       181, 225990193,       724],\n",
        "       [      709,       181, 225990193,       724],\n",
        "       [      590,       181, 225990193,       724],\n",
        "       [       47,       181, 225990193,       724],\n",
        "       [       36,       181, 225990193,       724],\n",
        "       [       23,       181, 225990193,       724],\n",
        "       [      832,       181, 225990193,       724],\n",
        "       [      520,       181, 225990193,       724],\n",
        "       [      611,       181, 225990193,       724],\n",
        "       [      612,       181, 225990193,       724],\n",
        "       [      401,       181, 225990193,       724],\n",
        "       [      689,       181, 225990193,       724],\n",
        "       [      613,       181, 225990193,       724],\n",
        "       [      166,       181, 225990193,       724],\n",
        "       [      547,       181, 225990193,       724],\n",
        "       [      344,       181, 225990193,       724],\n",
        "       [      158,       181, 225990193,       724],\n",
        "       [      275,       181, 225990193,       724],\n",
        "       [       97,       181, 225990193,       724],\n",
        "       [      585,       181, 225990193,       724],\n",
        "       [      387,       181, 225990193,       724],\n",
        "       [      792,       181, 225990193,       724],\n",
        "       [      169,       181, 225990193,       724],\n",
        "       [      739,       181, 225990193,       724],\n",
        "       [      598,       181, 225990193,       724],\n",
        "       [      403,       181, 225990193,       724],\n",
        "       [      514,       181, 225990193,       724],\n",
        "       [      774,       181, 225990193,       724],\n",
        "       [      368,       181, 225990193,       724]])"
       ]
      }
     ],
     "prompt_number": 6
    },
    {
     "cell_type": "code",
     "collapsed": false,
     "input": [
      "pe1[-100:]"
     ],
     "language": "python",
     "metadata": {},
     "outputs": [
      {
       "metadata": {},
       "output_type": "pyout",
       "prompt_number": 7,
       "text": [
        "[(194, datetime.datetime(2443, 5, 6, 10, 53), 776),\n",
        " (194, datetime.datetime(2443, 5, 7, 13, 49), 776),\n",
        " (193, datetime.datetime(2443, 5, 8, 16, 45), 772),\n",
        " (193, datetime.datetime(2443, 5, 10, 9, 37), 772),\n",
        " (193, datetime.datetime(2443, 5, 11, 12, 29), 772),\n",
        " (193, datetime.datetime(2443, 5, 12, 15, 21), 772),\n",
        " (193, datetime.datetime(2443, 5, 13, 18, 13), 772),\n",
        " (193, datetime.datetime(2443, 5, 15, 11, 5), 772),\n",
        " (193, datetime.datetime(2443, 5, 16, 13, 57), 772),\n",
        " (192, datetime.datetime(2443, 5, 17, 16, 49), 768),\n",
        " (192, datetime.datetime(2443, 5, 19, 9, 37), 768),\n",
        " (192, datetime.datetime(2443, 5, 20, 12, 25), 768),\n",
        " (192, datetime.datetime(2443, 5, 21, 15, 13), 768),\n",
        " (192, datetime.datetime(2443, 5, 22, 18, 1), 768),\n",
        " (192, datetime.datetime(2443, 5, 24, 10, 49), 768),\n",
        " (192, datetime.datetime(2443, 5, 25, 13, 37), 768),\n",
        " (191, datetime.datetime(2443, 5, 26, 16, 25), 764),\n",
        " (191, datetime.datetime(2443, 5, 28, 9, 9), 764),\n",
        " (191, datetime.datetime(2443, 5, 29, 11, 53), 764),\n",
        " (191, datetime.datetime(2443, 5, 30, 14, 37), 764),\n",
        " (191, datetime.datetime(2443, 5, 31, 17, 21), 764),\n",
        " (191, datetime.datetime(2443, 6, 2, 10, 5), 764),\n",
        " (191, datetime.datetime(2443, 6, 3, 12, 49), 764),\n",
        " (191, datetime.datetime(2443, 6, 4, 15, 33), 764),\n",
        " (190, datetime.datetime(2443, 6, 5, 18, 17), 760),\n",
        " (190, datetime.datetime(2443, 6, 7, 10, 57), 760),\n",
        " (190, datetime.datetime(2443, 6, 8, 13, 37), 760),\n",
        " (190, datetime.datetime(2443, 6, 9, 16, 17), 760),\n",
        " (190, datetime.datetime(2443, 6, 10, 18, 57), 760),\n",
        " (190, datetime.datetime(2443, 6, 12, 11, 37), 760),\n",
        " (189, datetime.datetime(2443, 6, 13, 14, 17), 756),\n",
        " (189, datetime.datetime(2443, 6, 14, 16, 53), 756),\n",
        " (189, datetime.datetime(2443, 6, 16, 9, 29), 756),\n",
        " (189, datetime.datetime(2443, 6, 17, 12, 5), 756),\n",
        " (189, datetime.datetime(2443, 6, 18, 14, 41), 756),\n",
        " (189, datetime.datetime(2443, 6, 19, 17, 17), 756),\n",
        " (189, datetime.datetime(2443, 6, 21, 9, 53), 756),\n",
        " (189, datetime.datetime(2443, 6, 22, 12, 29), 756),\n",
        " (188, datetime.datetime(2443, 6, 23, 15, 5), 752),\n",
        " (188, datetime.datetime(2443, 6, 24, 17, 37), 752),\n",
        " (188, datetime.datetime(2443, 6, 26, 10, 9), 752),\n",
        " (188, datetime.datetime(2443, 6, 27, 12, 41), 752),\n",
        " (188, datetime.datetime(2443, 6, 28, 15, 13), 752),\n",
        " (188, datetime.datetime(2443, 6, 29, 17, 45), 752),\n",
        " (188, datetime.datetime(2443, 7, 1, 10, 17), 752),\n",
        " (188, datetime.datetime(2443, 7, 2, 12, 49), 752),\n",
        " (187, datetime.datetime(2443, 7, 3, 15, 21), 748),\n",
        " (187, datetime.datetime(2443, 7, 4, 17, 49), 748),\n",
        " (187, datetime.datetime(2443, 7, 6, 10, 17), 748),\n",
        " (187, datetime.datetime(2443, 7, 7, 12, 45), 748),\n",
        " (187, datetime.datetime(2443, 7, 8, 15, 13), 748),\n",
        " (187, datetime.datetime(2443, 7, 9, 17, 41), 748),\n",
        " (186, datetime.datetime(2443, 7, 11, 10, 9), 744),\n",
        " (186, datetime.datetime(2443, 7, 12, 12, 33), 744),\n",
        " (186, datetime.datetime(2443, 7, 13, 14, 57), 744),\n",
        " (186, datetime.datetime(2443, 7, 14, 17, 21), 744),\n",
        " (186, datetime.datetime(2443, 7, 16, 9, 45), 744),\n",
        " (186, datetime.datetime(2443, 7, 17, 12, 9), 744),\n",
        " (186, datetime.datetime(2443, 7, 18, 14, 33), 744),\n",
        " (186, datetime.datetime(2443, 7, 19, 16, 57), 744),\n",
        " (186, datetime.datetime(2443, 7, 21, 9, 21), 744),\n",
        " (185, datetime.datetime(2443, 7, 22, 11, 45), 740),\n",
        " (185, datetime.datetime(2443, 7, 23, 14, 5), 740),\n",
        " (185, datetime.datetime(2443, 7, 24, 16, 25), 740),\n",
        " (185, datetime.datetime(2443, 7, 25, 18, 45), 740),\n",
        " (185, datetime.datetime(2443, 7, 27, 11, 5), 740),\n",
        " (185, datetime.datetime(2443, 7, 28, 13, 25), 740),\n",
        " (185, datetime.datetime(2443, 7, 29, 15, 45), 740),\n",
        " (184, datetime.datetime(2443, 7, 30, 18, 5), 736),\n",
        " (184, datetime.datetime(2443, 8, 1, 10, 21), 736),\n",
        " (184, datetime.datetime(2443, 8, 2, 12, 37), 736),\n",
        " (184, datetime.datetime(2443, 8, 3, 14, 53), 736),\n",
        " (184, datetime.datetime(2443, 8, 4, 17, 9), 736),\n",
        " (184, datetime.datetime(2443, 8, 6, 9, 25), 736),\n",
        " (184, datetime.datetime(2443, 8, 7, 11, 41), 736),\n",
        " (183, datetime.datetime(2443, 8, 8, 13, 57), 732),\n",
        " (183, datetime.datetime(2443, 8, 9, 16, 9), 732),\n",
        " (183, datetime.datetime(2443, 8, 10, 18, 21), 732),\n",
        " (183, datetime.datetime(2443, 8, 12, 10, 33), 732),\n",
        " (183, datetime.datetime(2443, 8, 13, 12, 45), 732),\n",
        " (183, datetime.datetime(2443, 8, 14, 14, 57), 732),\n",
        " (183, datetime.datetime(2443, 8, 15, 17, 9), 732),\n",
        " (183, datetime.datetime(2443, 8, 17, 9, 21), 732),\n",
        " (183, datetime.datetime(2443, 8, 18, 11, 33), 732),\n",
        " (182, datetime.datetime(2443, 8, 19, 13, 45), 728),\n",
        " (182, datetime.datetime(2443, 8, 20, 15, 53), 728),\n",
        " (182, datetime.datetime(2443, 8, 21, 18, 1), 728),\n",
        " (182, datetime.datetime(2443, 8, 23, 10, 9), 728),\n",
        " (182, datetime.datetime(2443, 8, 24, 12, 17), 728),\n",
        " (182, datetime.datetime(2443, 8, 25, 14, 25), 728),\n",
        " (182, datetime.datetime(2443, 8, 26, 16, 33), 728),\n",
        " (181, datetime.datetime(2443, 8, 27, 18, 41), 724),\n",
        " (181, datetime.datetime(2443, 8, 29, 10, 45), 724),\n",
        " (181, datetime.datetime(2443, 8, 30, 12, 49), 724),\n",
        " (181, datetime.datetime(2443, 8, 31, 14, 53), 724),\n",
        " (181, datetime.datetime(2443, 9, 1, 16, 57), 724),\n",
        " (181, datetime.datetime(2443, 9, 3, 9, 1), 724),\n",
        " (181, datetime.datetime(2443, 9, 4, 11, 5), 724),\n",
        " (181, datetime.datetime(2443, 9, 5, 13, 9), 724),\n",
        " (181, datetime.datetime(2443, 9, 6, 15, 13), 724)]"
       ]
      }
     ],
     "prompt_number": 7
    },
    {
     "cell_type": "code",
     "collapsed": false,
     "input": [],
     "language": "python",
     "metadata": {},
     "outputs": []
    }
   ],
   "metadata": {}
  }
 ]
}